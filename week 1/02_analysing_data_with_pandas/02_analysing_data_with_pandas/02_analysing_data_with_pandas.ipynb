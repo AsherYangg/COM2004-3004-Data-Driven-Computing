{
 "cells": [
  {
   "cell_type": "markdown",
   "id": "7c72ad33",
   "metadata": {},
   "source": [
    "# COM2004/3004 - Analysing data with Pandas"
   ]
  },
  {
   "cell_type": "markdown",
   "id": "2f553a28",
   "metadata": {},
   "source": [
    "*Copyright &copy; 2023 University of Sheffield. All rights reserved*."
   ]
  },
  {
   "cell_type": "markdown",
   "id": "cc20584d",
   "metadata": {},
   "source": [
    "## Objectives\n",
    "\n",
    "* To learn how to use python `pandas` to handle a large real dataset.\n",
    "* To see how questions can be answered using a few lines of python code.\n",
    "* To see some examples of how data can be visualised using `matplotlib`.\n",
    "\n",
    "## Introduction\n",
    "\n",
    "\n",
    "This notebook uses the `footballdata` python module which accesses data from a number of football data websites. The data includes match results from recent years for all major leagues across Europe and elsewhere.\n",
    "\n",
    "The module will not be installed in your python distribution so before it can be imported you will need to install it by using `pip` in the linux shell. This can be done from inside the notebook by execute the cell below\n"
   ]
  },
  {
   "cell_type": "code",
   "execution_count": null,
   "id": "80fd901b",
   "metadata": {},
   "outputs": [],
   "source": [
    "%pip install numpy pandas\n",
    "import numpy as np\n",
    "import pandas as pd"
   ]
  },
  {
   "cell_type": "markdown",
   "id": "8f1d2555",
   "metadata": {},
   "source": [
    "In this lab we will be using Pandas. Pandas is a module for data science, which provides powerful ways for manipulating and querying data stored in spreadsheet-like structures called `dataframe`s.\n",
    "\n",
    "We will be using data from all games in the English Premier League from 2014 to the present. The data is loaded below and stored in the variable `games`."
   ]
  },
  {
   "cell_type": "code",
   "execution_count": null,
   "id": "3c14cad6",
   "metadata": {},
   "outputs": [],
   "source": [
    "games = pd.read_csv('data/games.csv')"
   ]
  },
  {
   "cell_type": "markdown",
   "id": "638081c5",
   "metadata": {},
   "source": [
    "`games` is a pandas dataframe object. It is somewhat like a spreadsheet with the data for each game stored in a separate row. Each row consists of a number of headed columns. The available column names are stored in the list `games.columns`.\n",
    "\n",
    "Execute the cell below to view them,"
   ]
  },
  {
   "cell_type": "code",
   "execution_count": null,
   "id": "ca8686e4",
   "metadata": {},
   "outputs": [],
   "source": [
    "games.columns"
   ]
  },
  {
   "cell_type": "markdown",
   "id": "caaa4dc0",
   "metadata": {},
   "source": [
    "The column names have been given compact but rather cryptic names, e.g., 'HTHG' is the half-time home goals, 'HY' is the number of yellow cards for the home team, etc. The meaning of other headings can be found here https://www.football-data.co.uk/notes.txt\n",
    "\n",
    "The data in `games` stores results of 1900 matches. For each match there are 67 different columns, i.e., 67 different items of data. If we print `games` we will be shown a small part of the complete dataset."
   ]
  },
  {
   "cell_type": "code",
   "execution_count": null,
   "id": "ae226f0d",
   "metadata": {},
   "outputs": [],
   "source": [
    "print(games)"
   ]
  },
  {
   "cell_type": "markdown",
   "id": "e7c336f9",
   "metadata": {},
   "source": [
    "## Selecting a column\n",
    "\n",
    "We can select a single column of data by indexing the dataframe with the column name. e.g. to retrieve the halftime home goals we would use"
   ]
  },
  {
   "cell_type": "code",
   "execution_count": null,
   "id": "ceec1d12",
   "metadata": {},
   "outputs": [],
   "source": [
    "hthg = list(games[\"HTHG\"])\n",
    "# print(hthg)"
   ]
  },
  {
   "cell_type": "markdown",
   "id": "16e2f6af",
   "metadata": {},
   "source": [
    "## Selecting a subset of the games\n",
    "\n",
    "Pandas provides an easy ways to filter the data. For example to select the games for which the 'home_team' is 'Liverpool' we would use"
   ]
  },
  {
   "cell_type": "code",
   "execution_count": null,
   "id": "18566cd4",
   "metadata": {},
   "outputs": [],
   "source": [
    "liverpool_games = games[games[\"home_team\"] == \"Liverpool\"]"
   ]
  },
  {
   "cell_type": "markdown",
   "id": "fb97e79a",
   "metadata": {},
   "source": [
    "Putting this together we can retrieve the halftime home goals scored in all games by Liverpool"
   ]
  },
  {
   "cell_type": "code",
   "execution_count": null,
   "id": "e79f9c0b",
   "metadata": {},
   "outputs": [],
   "source": [
    "liverpool_games = games[games[\"home_team\"] == \"Liverpool\"]\n",
    "liverpool_hthg = list(liverpool_games[\"HTHG\"])\n",
    "print(liverpool_hthg)"
   ]
  },
  {
   "cell_type": "markdown",
   "id": "79844370",
   "metadata": {},
   "source": [
    "## Computing the mean of a row\n",
    "\n",
    "To compute the mean of one of the data items we can use the `mean` function in the `numpy` module, `np.mean`.\n",
    "\n",
    "For example, let's now work out the average value of the number of goals scored by Liverpool at half time when playing at home"
   ]
  },
  {
   "cell_type": "code",
   "execution_count": null,
   "id": "baa7c8b0",
   "metadata": {},
   "outputs": [],
   "source": [
    "iverpool_games = games[games[\"home_team\"] == \"Liverpool\"]\n",
    "liverpool_hthg = list(liverpool_games[\"HTHG\"])\n",
    "np.mean(liverpool_hthg)"
   ]
  },
  {
   "cell_type": "markdown",
   "id": "5c1159f9",
   "metadata": {},
   "source": [
    "## Average number of goals per team\n",
    "\n",
    "We can construct the set of the names of all home teams using"
   ]
  },
  {
   "cell_type": "code",
   "execution_count": null,
   "id": "031cbd9b",
   "metadata": {},
   "outputs": [],
   "source": [
    "teams_set = set(games[\"home_team\"])"
   ]
  },
  {
   "cell_type": "markdown",
   "id": "1279ddca",
   "metadata": {},
   "source": [
    "It will be convenient to turn this set into a list"
   ]
  },
  {
   "cell_type": "code",
   "execution_count": null,
   "id": "1b7734a7",
   "metadata": {},
   "outputs": [],
   "source": [
    "teams = list(teams_set)"
   ]
  },
  {
   "cell_type": "markdown",
   "id": "5f73436c",
   "metadata": {},
   "source": [
    "We can now iterate over all the teams in that set and compute the average number of half time home goals for every team."
   ]
  },
  {
   "cell_type": "code",
   "execution_count": null,
   "id": "b6c710c3",
   "metadata": {},
   "outputs": [],
   "source": [
    "for team in teams:\n",
    "    mg = np.mean(games[games[\"home_team\"] == team][\"HTHG\"])\n",
    "    print(team, mg)"
   ]
  },
  {
   "cell_type": "markdown",
   "id": "e34323b5",
   "metadata": {},
   "source": [
    "Look at the results above.\n",
    "\n",
    "**Which team has the highest number of goals by half-time on average?**"
   ]
  },
  {
   "cell_type": "markdown",
   "id": "5b0bda97",
   "metadata": {},
   "source": [
    "## Football questions\n",
    "\n",
    "Using the ideas above try and write code that will allow you to answer the following questions."
   ]
  },
  {
   "cell_type": "markdown",
   "id": "a7e90312",
   "metadata": {},
   "source": [
    "1. Which team has the highest average number of goals per game when playing at home?"
   ]
  },
  {
   "cell_type": "code",
   "execution_count": null,
   "id": "1bda08d1",
   "metadata": {},
   "outputs": [],
   "source": [
    "# Example - looking at half time home goals (HTHG)\n",
    "highest_mean_goals = 0\n",
    "for team in teams:\n",
    "    mean_goals = np.mean(games[games[\"home_team\"] == team][\"HTHG\"])\n",
    "    if mean_goals > highest_mean_goals:\n",
    "        highest_mean_goals = mean_goals\n",
    "        best_team = team\n",
    "print(best_team, highest_mean_goals)"
   ]
  },
  {
   "cell_type": "code",
   "execution_count": null,
   "id": "f0a116a5",
   "metadata": {},
   "outputs": [],
   "source": [
    "# Write a solution using full time home goals (HTHG), try making it more compact than above"
   ]
  },
  {
   "cell_type": "markdown",
   "id": "9b743592",
   "metadata": {},
   "source": [
    "2. Which team has the highest average number of goals per game when playing away?"
   ]
  },
  {
   "cell_type": "code",
   "execution_count": null,
   "id": "addd043b",
   "metadata": {},
   "outputs": [],
   "source": [
    "# Write your solution here"
   ]
  },
  {
   "cell_type": "markdown",
   "id": "df1b2c2c",
   "metadata": {},
   "source": [
    "3. Which team has the biggest difference in its average home and away goals scored?"
   ]
  },
  {
   "cell_type": "code",
   "execution_count": null,
   "id": "9d701b98",
   "metadata": {},
   "outputs": [],
   "source": [
    "# Write your solution here"
   ]
  },
  {
   "cell_type": "markdown",
   "id": "f38fbfea",
   "metadata": {},
   "source": [
    "4. Which referee has issues the highest number of yellow cards per match on average?"
   ]
  },
  {
   "cell_type": "code",
   "execution_count": null,
   "id": "06966d16",
   "metadata": {},
   "outputs": [],
   "source": [
    "# Write your solution here\n",
    "# Hint: refs = list(set(games[\"Referee\"]))"
   ]
  },
  {
   "cell_type": "markdown",
   "id": "6c91024d",
   "metadata": {},
   "source": [
    "5. Which referee has issues the highest number of red cards per match on average?"
   ]
  },
  {
   "cell_type": "code",
   "execution_count": null,
   "id": "aa96b5e3",
   "metadata": {},
   "outputs": [],
   "source": [
    "# Write your solution here"
   ]
  },
  {
   "cell_type": "markdown",
   "id": "44d793ef",
   "metadata": {},
   "source": [
    "6. What was the highest scoring game played? i.e. total number of goals."
   ]
  },
  {
   "cell_type": "code",
   "execution_count": null,
   "id": "fb87b6c6",
   "metadata": {},
   "outputs": [],
   "source": [
    "# Write your solution here"
   ]
  },
  {
   "cell_type": "markdown",
   "id": "b0bdcedc",
   "metadata": {},
   "source": [
    "7. What is the name of the referee who has refereed the most matches?"
   ]
  },
  {
   "cell_type": "code",
   "execution_count": null,
   "id": "524a79f9",
   "metadata": {},
   "outputs": [],
   "source": [
    "# Write your solution here"
   ]
  },
  {
   "cell_type": "markdown",
   "id": "b9f1fd9b",
   "metadata": {},
   "source": [
    "8. Is there a difference to the number of red cards given to away teams compared to home teams?"
   ]
  },
  {
   "cell_type": "code",
   "execution_count": null,
   "id": "fed020a7",
   "metadata": {},
   "outputs": [],
   "source": [
    "# Write your solution here"
   ]
  },
  {
   "cell_type": "markdown",
   "id": "fb9970a2",
   "metadata": {},
   "source": [
    "9. What is the average number of goals scored in the 1st half of a match? In the 2nd half of a match?"
   ]
  },
  {
   "cell_type": "code",
   "execution_count": null,
   "id": "cb14c1f0",
   "metadata": {},
   "outputs": [],
   "source": [
    "# Write your solution here"
   ]
  },
  {
   "cell_type": "markdown",
   "id": "30627a84",
   "metadata": {},
   "source": [
    "# Plotting data"
   ]
  },
  {
   "cell_type": "markdown",
   "id": "12800d24",
   "metadata": {},
   "source": [
    "We will first load the matplotlib and seaborn modules that we are going to use for plotting."
   ]
  },
  {
   "cell_type": "code",
   "execution_count": null,
   "id": "792d1272",
   "metadata": {},
   "outputs": [],
   "source": [
    "%pip install seaborn"
   ]
  },
  {
   "cell_type": "code",
   "execution_count": null,
   "id": "d7f9a454",
   "metadata": {},
   "outputs": [],
   "source": [
    "import matplotlib.pylab as plt\n",
    "import seaborn"
   ]
  },
  {
   "cell_type": "markdown",
   "id": "fca763ce",
   "metadata": {},
   "source": [
    "We can examine the distribution of data stored in columns using 1 and 2-d histograms. This is easy to do using `matplotlib`s `hist` and `hist2d` functions."
   ]
  },
  {
   "cell_type": "markdown",
   "id": "6672c400",
   "metadata": {},
   "source": [
    "For example we can see that the home team more often scores 1 goal than 0 goals."
   ]
  },
  {
   "cell_type": "code",
   "execution_count": null,
   "id": "b36204dc",
   "metadata": {},
   "outputs": [],
   "source": [
    "plt.hist(games[\"FTHG\"], range(8))\n",
    "plt.show()"
   ]
  },
  {
   "cell_type": "markdown",
   "id": "825caa28",
   "metadata": {},
   "source": [
    "The distribution of the total number of goals shows that games with 2 goals are the most common,"
   ]
  },
  {
   "cell_type": "code",
   "execution_count": null,
   "id": "fbb529f2",
   "metadata": {},
   "outputs": [],
   "source": [
    "plt.hist(games[\"FTHG\"] + games[\"FTAG\"], range(11))\n",
    "plt.show()"
   ]
  },
  {
   "cell_type": "markdown",
   "id": "3cf5c2ce",
   "metadata": {},
   "source": [
    "More interestingly we can use a 2-D histogram to compare frequencies of pairs of values, e.g. home goals and away goals."
   ]
  },
  {
   "cell_type": "markdown",
   "id": "9eca2421",
   "metadata": {},
   "source": [
    "We could do this directly with `plt.hist2d` but in the example below we pass the output of hist2d to another plotting package called `seaborn` which can make slight nicer figures,"
   ]
  },
  {
   "cell_type": "code",
   "execution_count": null,
   "id": "6bc21cf4",
   "metadata": {},
   "outputs": [],
   "source": [
    "[h, x, y, i] = plt.hist2d(games[\"FTHG\"], games[\"FTAG\"], range(8))\n",
    "seaborn.heatmap(h.astype(\"int\"), annot=True, fmt=\"d\", cmap=\"coolwarm\")\n",
    "plt.show()"
   ]
  },
  {
   "cell_type": "markdown",
   "id": "687b6b9f",
   "metadata": {},
   "source": [
    "The plot above shows the 1-1 is the most common score. The lack of symetry down the diagonal demonstrates the home team advantage, i.e., 185 games are 1-0 compared to only 143 that are 0-1, etc.\n",
    "\n",
    "In the plot below we look at the distribution of home fouls against away fouls. If we look closely we can see that the home team commits more fouls than the away team."
   ]
  },
  {
   "cell_type": "code",
   "execution_count": null,
   "id": "624697d6",
   "metadata": {},
   "outputs": [],
   "source": [
    "[h, x, y, i] = plt.hist2d(games[\"HF\"], games[\"AF\"], range(20))\n",
    "seaborn.heatmap(h.astype(\"int\"), annot=True, fmt=\"d\", cmap=\"coolwarm\")\n",
    "plt.show()"
   ]
  },
  {
   "cell_type": "markdown",
   "id": "036d535a",
   "metadata": {},
   "source": [
    "We can also look and home vs away yellow cards..."
   ]
  },
  {
   "cell_type": "code",
   "execution_count": null,
   "id": "00ca5a6b",
   "metadata": {},
   "outputs": [],
   "source": [
    "[h, x, y, i] = plt.hist2d(games[\"HY\"], games[\"AY\"], range(8))\n",
    "seaborn.heatmap(h.astype(\"int\"), annot=True, fmt=\"d\", cmap=\"coolwarm\")\n",
    "plt.show()"
   ]
  },
  {
   "cell_type": "code",
   "execution_count": null,
   "id": "aa459a09",
   "metadata": {},
   "outputs": [],
   "source": [
    "sum(games[\"HY\"]), sum(games[\"AY\"])"
   ]
  },
  {
   "cell_type": "code",
   "execution_count": null,
   "id": "2cf93f54",
   "metadata": {},
   "outputs": [],
   "source": [
    "print(\"yellow cards: home \", sum(games[\"HY\"]), \"vs. away \", sum(games[\"AY\"]))\n",
    "print(\"fouls cards: home \", sum(games[\"HF\"]), \"vs. away \", sum(games[\"AF\"]))"
   ]
  },
  {
   "cell_type": "markdown",
   "id": "0e390c54",
   "metadata": {},
   "source": [
    "What causes this discrepancy? There are many possible reaosons, including, i) teams are fouling more often when playing away because they are more often behind, ii) teams are fouling the same amount home and away but there a bias in refereeing such that decisions more often go against the away team?\n",
    "\n",
    "**Can you think of ways in which you could analyse the data to try find evidence to support or reject these two explanations?**"
   ]
  },
  {
   "cell_type": "code",
   "execution_count": null,
   "id": "13051111",
   "metadata": {},
   "outputs": [],
   "source": []
  }
 ],
 "metadata": {
  "jupytext": {
   "formats": "ipynb,py:percent",
   "text_representation": {
    "extension": ".py",
    "format_name": "percent",
    "format_version": "1.2",
    "jupytext_version": "1.2.4"
   }
  },
  "kernelspec": {
   "display_name": "Python 3.10.7 ('env')",
   "language": "python",
   "name": "python3"
  },
  "language_info": {
   "codemirror_mode": {
    "name": "ipython",
    "version": 3
   },
   "file_extension": ".py",
   "mimetype": "text/x-python",
   "name": "python",
   "nbconvert_exporter": "python",
   "pygments_lexer": "ipython3",
   "version": "3.11.4"
  }
 },
 "nbformat": 4,
 "nbformat_minor": 5
}
