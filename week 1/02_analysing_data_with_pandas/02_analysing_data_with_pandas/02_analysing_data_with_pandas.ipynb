{
 "cells": [
  {
   "cell_type": "markdown",
   "id": "7c72ad33",
   "metadata": {},
   "source": [
    "# COM2004/3004 - Analysing data with Pandas"
   ]
  },
  {
   "cell_type": "markdown",
   "id": "2f553a28",
   "metadata": {},
   "source": [
    "*Copyright &copy; 2023 University of Sheffield. All rights reserved*."
   ]
  },
  {
   "cell_type": "markdown",
   "id": "cc20584d",
   "metadata": {},
   "source": [
    "## Objectives\n",
    "\n",
    "* To learn how to use python `pandas` to handle a large real dataset.\n",
    "* To see how questions can be answered using a few lines of python code.\n",
    "* To see some examples of how data can be visualised using `matplotlib`.\n",
    "\n",
    "## Introduction\n",
    "\n",
    "\n",
    "This notebook uses the `footballdata` python module which accesses data from a number of football data websites. The data includes match results from recent years for all major leagues across Europe and elsewhere.\n",
    "\n",
    "The module will not be installed in your python distribution so before it can be imported you will need to install it by using `pip` in the linux shell. This can be done from inside the notebook by execute the cell below\n"
   ]
  },
  {
   "cell_type": "code",
   "execution_count": 1,
   "id": "80fd901b",
   "metadata": {},
   "outputs": [
    {
     "name": "stdout",
     "output_type": "stream",
     "text": [
      "Defaulting to user installation because normal site-packages is not writeable\n",
      "Requirement already satisfied: numpy in c:\\users\\asher\\appdata\\roaming\\python\\python311\\site-packages (1.25.1)\n",
      "Requirement already satisfied: pandas in c:\\users\\asher\\appdata\\roaming\\python\\python311\\site-packages (2.1.1)\n",
      "Requirement already satisfied: python-dateutil>=2.8.2 in c:\\users\\asher\\appdata\\roaming\\python\\python311\\site-packages (from pandas) (2.8.2)\n",
      "Requirement already satisfied: pytz>=2020.1 in c:\\users\\asher\\appdata\\roaming\\python\\python311\\site-packages (from pandas) (2023.3.post1)\n",
      "Requirement already satisfied: tzdata>=2022.1 in c:\\users\\asher\\appdata\\roaming\\python\\python311\\site-packages (from pandas) (2023.3)\n",
      "Requirement already satisfied: six>=1.5 in c:\\users\\asher\\appdata\\roaming\\python\\python311\\site-packages (from python-dateutil>=2.8.2->pandas) (1.16.0)\n",
      "Note: you may need to restart the kernel to use updated packages.\n"
     ]
    },
    {
     "name": "stderr",
     "output_type": "stream",
     "text": [
      "\n",
      "[notice] A new release of pip is available: 23.1.2 -> 23.2.1\n",
      "[notice] To update, run: python.exe -m pip install --upgrade pip\n"
     ]
    }
   ],
   "source": [
    "%pip install numpy pandas\n",
    "import numpy as np\n",
    "import pandas as pd"
   ]
  },
  {
   "cell_type": "markdown",
   "id": "8f1d2555",
   "metadata": {},
   "source": [
    "In this lab we will be using Pandas. Pandas is a module for data science, which provides powerful ways for manipulating and querying data stored in spreadsheet-like structures called `dataframe`s.\n",
    "\n",
    "We will be using data from all games in the English Premier League from 2014 to the present. The data is loaded below and stored in the variable `games`."
   ]
  },
  {
   "cell_type": "code",
   "execution_count": 2,
   "id": "3c14cad6",
   "metadata": {},
   "outputs": [],
   "source": [
    "games = pd.read_csv('data/games.csv')"
   ]
  },
  {
   "cell_type": "markdown",
   "id": "638081c5",
   "metadata": {},
   "source": [
    "`games` is a pandas dataframe object. It is somewhat like a spreadsheet with the data for each game stored in a separate row. Each row consists of a number of headed columns. The available column names are stored in the list `games.columns`.\n",
    "\n",
    "Execute the cell below to view them,"
   ]
  },
  {
   "cell_type": "code",
   "execution_count": 3,
   "id": "ca8686e4",
   "metadata": {},
   "outputs": [
    {
     "data": {
      "text/plain": [
       "Index(['league', 'season', 'game_id', 'date', 'home_team', 'away_team', 'FTHG',\n",
       "       'FTAG', 'FTR', 'HTHG', 'HTAG', 'HTR', 'Referee', 'HS', 'AS', 'HST',\n",
       "       'AST', 'HF', 'AF', 'HC', 'AC', 'HY', 'AY', 'HR', 'AR', 'B365H', 'B365D',\n",
       "       'B365A', 'BWH', 'BWD', 'BWA', 'IWH', 'IWD', 'IWA', 'LBH', 'LBD', 'LBA',\n",
       "       'PSH', 'PSD', 'PSA', 'WHH', 'WHD', 'WHA', 'SJH', 'SJD', 'SJA', 'VCH',\n",
       "       'VCD', 'VCA', 'Bb1X2', 'BbMxH', 'BbAvH', 'BbMxD', 'BbAvD', 'BbMxA',\n",
       "       'BbAvA', 'BbOU', 'BbMx>2.5', 'BbAv>2.5', 'BbMx<2.5', 'BbAv<2.5', 'BbAH',\n",
       "       'BbAHh', 'BbMxAHH', 'BbAvAHH', 'BbMxAHA', 'BbAvAHA', 'PSCH', 'PSCD',\n",
       "       'PSCA'],\n",
       "      dtype='object')"
      ]
     },
     "execution_count": 3,
     "metadata": {},
     "output_type": "execute_result"
    }
   ],
   "source": [
    "games.columns"
   ]
  },
  {
   "cell_type": "markdown",
   "id": "caaa4dc0",
   "metadata": {},
   "source": [
    "The column names have been given compact but rather cryptic names, e.g., 'HTHG' is the half-time home goals, 'HY' is the number of yellow cards for the home team, etc. The meaning of other headings can be found here https://www.football-data.co.uk/notes.txt\n",
    "\n",
    "The data in `games` stores results of 1900 matches. For each match there are 67 different columns, i.e., 67 different items of data. If we print `games` we will be shown a small part of the complete dataset."
   ]
  },
  {
   "cell_type": "code",
   "execution_count": 4,
   "id": "ae226f0d",
   "metadata": {},
   "outputs": [
    {
     "name": "stdout",
     "output_type": "stream",
     "text": [
      "                  league  season                                    game_id  \\\n",
      "0     ENG-Premier League    1415          2014-08-16 Arsenal-Crystal Palace   \n",
      "1     ENG-Premier League    1415          2014-08-16 Leicester City-Everton   \n",
      "2     ENG-Premier League    1415  2014-08-16 Manchester United-Swansea City   \n",
      "3     ENG-Premier League    1415                   2014-08-16 QPR-Hull City   \n",
      "4     ENG-Premier League    1415          2014-08-16 Stoke City-Aston Villa   \n",
      "...                  ...     ...                                        ...   \n",
      "1895  ENG-Premier League    1819                2019-05-12 Liverpool-Wolves   \n",
      "1896  ENG-Premier League    1819       2019-05-12 Manchester United-Cardiff   \n",
      "1897  ENG-Premier League    1819        2019-05-12 Southampton-Huddersfield   \n",
      "1898  ENG-Premier League    1819       2019-05-12 Tottenham Hotspur-Everton   \n",
      "1899  ENG-Premier League    1819         2019-05-12 Watford-West Ham United   \n",
      "\n",
      "            date          home_team        away_team  FTHG  FTAG FTR  HTHG  \\\n",
      "0     2014-08-16            Arsenal   Crystal Palace     2     1   H     1   \n",
      "1     2014-08-16     Leicester City          Everton     2     2   D     1   \n",
      "2     2014-08-16  Manchester United     Swansea City     1     2   A     0   \n",
      "3     2014-08-16                QPR        Hull City     0     1   A     0   \n",
      "4     2014-08-16         Stoke City      Aston Villa     0     1   A     0   \n",
      "...          ...                ...              ...   ...   ...  ..   ...   \n",
      "1895  2019-05-12          Liverpool           Wolves     2     0   H     1   \n",
      "1896  2019-05-12  Manchester United          Cardiff     0     2   A     0   \n",
      "1897  2019-05-12        Southampton     Huddersfield     1     1   D     1   \n",
      "1898  2019-05-12  Tottenham Hotspur          Everton     2     2   D     1   \n",
      "1899  2019-05-12            Watford  West Ham United     1     4   A     0   \n",
      "\n",
      "      ...  BbAv<2.5 BbAH BbAHh  BbMxAHH  BbAvAHH  BbMxAHA  BbAvAHA  PSCH  \\\n",
      "0     ...      2.10   24 -1.50     1.81     1.78     2.20     2.10  1.29   \n",
      "1     ...      1.80   22  0.25     1.88     1.85     2.10     2.02  3.11   \n",
      "2     ...      2.13   25 -1.50     2.18     2.08     1.87     1.79  1.45   \n",
      "3     ...      1.58   24  0.00     1.80     1.73     2.25     2.14  2.31   \n",
      "4     ...      1.60   23 -0.50     1.95     1.91     2.02     1.96  2.01   \n",
      "...   ...       ...  ...   ...      ...      ...      ...      ...   ...   \n",
      "1895  ...      2.31   22 -1.50     1.98     1.91     2.01     1.95  1.32   \n",
      "1896  ...      2.95   21 -2.00     2.52     2.32     1.72     1.64  1.30   \n",
      "1897  ...      2.29   22 -1.50     2.27     2.16     1.80     1.73  1.37   \n",
      "1898  ...      2.07   19 -0.50     2.13     2.08     1.85     1.80  1.91   \n",
      "1899  ...      2.44   19 -0.50     2.25     2.19     1.78     1.72  2.11   \n",
      "\n",
      "      PSCD   PSCA  \n",
      "0     5.90  12.75  \n",
      "1     3.40   2.47  \n",
      "2     4.81   8.25  \n",
      "3     3.24   3.59  \n",
      "4     3.34   4.51  \n",
      "...    ...    ...  \n",
      "1895  5.89   9.48  \n",
      "1896  6.06   9.71  \n",
      "1897  5.36   8.49  \n",
      "1898  3.81   4.15  \n",
      "1899  3.86   3.41  \n",
      "\n",
      "[1900 rows x 70 columns]\n"
     ]
    }
   ],
   "source": [
    "print(games)"
   ]
  },
  {
   "cell_type": "markdown",
   "id": "e7c336f9",
   "metadata": {},
   "source": [
    "## Selecting a column\n",
    "\n",
    "We can select a single column of data by indexing the dataframe with the column name. e.g. to retrieve the halftime home goals we would use"
   ]
  },
  {
   "cell_type": "code",
   "execution_count": 8,
   "id": "ceec1d12",
   "metadata": {},
   "outputs": [],
   "source": [
    "hthg = list(games[\"HTHG\"])\n",
    "# print(hthg)"
   ]
  },
  {
   "cell_type": "markdown",
   "id": "16e2f6af",
   "metadata": {},
   "source": [
    "## Selecting a subset of the games\n",
    "\n",
    "Pandas provides an easy ways to filter the data. For example to select the games for which the 'home_team' is 'Liverpool' we would use"
   ]
  },
  {
   "cell_type": "code",
   "execution_count": 9,
   "id": "18566cd4",
   "metadata": {},
   "outputs": [],
   "source": [
    "liverpool_games = games[games[\"home_team\"] == \"Liverpool\"]"
   ]
  },
  {
   "cell_type": "markdown",
   "id": "fb97e79a",
   "metadata": {},
   "source": [
    "Putting this together we can retrieve the halftime home goals scored in all games by Liverpool"
   ]
  },
  {
   "cell_type": "code",
   "execution_count": 10,
   "id": "e79f9c0b",
   "metadata": {},
   "outputs": [
    {
     "name": "stdout",
     "output_type": "stream",
     "text": [
      "[1, 0, 0, 1, 0, 1, 0, 0, 1, 1, 2, 0, 1, 1, 1, 0, 1, 1, 1, 1, 0, 0, 1, 0, 1, 0, 1, 0, 2, 0, 0, 2, 0, 2, 2, 2, 1, 0, 2, 3, 0, 2, 3, 0, 1, 2, 1, 0, 0, 2, 2, 1, 2, 1, 1, 0, 1, 0, 2, 1, 0, 0, 2, 0, 1, 0, 1, 0, 1, 1, 1, 1, 2, 1, 0, 2, 2, 1, 3, 0, 1, 1, 0, 1, 1, 4, 0, 1, 2, 2, 2, 1, 0, 3, 1]\n"
     ]
    }
   ],
   "source": [
    "liverpool_games = games[games[\"home_team\"] == \"Liverpool\"]\n",
    "liverpool_hthg = list(liverpool_games[\"HTHG\"])\n",
    "print(liverpool_hthg)"
   ]
  },
  {
   "cell_type": "markdown",
   "id": "79844370",
   "metadata": {},
   "source": [
    "## Computing the mean of a row\n",
    "\n",
    "To compute the mean of one of the data items we can use the `mean` function in the `numpy` module, `np.mean`.\n",
    "\n",
    "For example, let's now work out the average value of the number of goals scored by Liverpool at half time when playing at home"
   ]
  },
  {
   "cell_type": "code",
   "execution_count": 11,
   "id": "baa7c8b0",
   "metadata": {},
   "outputs": [
    {
     "data": {
      "text/plain": [
       "0.9894736842105263"
      ]
     },
     "execution_count": 11,
     "metadata": {},
     "output_type": "execute_result"
    }
   ],
   "source": [
    "iverpool_games = games[games[\"home_team\"] == \"Liverpool\"]\n",
    "liverpool_hthg = list(liverpool_games[\"HTHG\"])\n",
    "np.mean(liverpool_hthg)"
   ]
  },
  {
   "cell_type": "markdown",
   "id": "5c1159f9",
   "metadata": {},
   "source": [
    "## Average number of goals per team\n",
    "\n",
    "We can construct the set of the names of all home teams using"
   ]
  },
  {
   "cell_type": "code",
   "execution_count": 12,
   "id": "031cbd9b",
   "metadata": {},
   "outputs": [],
   "source": [
    "teams_set = set(games[\"home_team\"])"
   ]
  },
  {
   "cell_type": "markdown",
   "id": "1279ddca",
   "metadata": {},
   "source": [
    "It will be convenient to turn this set into a list"
   ]
  },
  {
   "cell_type": "code",
   "execution_count": 13,
   "id": "1b7734a7",
   "metadata": {},
   "outputs": [],
   "source": [
    "teams = list(teams_set)"
   ]
  },
  {
   "cell_type": "markdown",
   "id": "5f73436c",
   "metadata": {},
   "source": [
    "We can now iterate over all the teams in that set and compute the average number of half time home goals for every team."
   ]
  },
  {
   "cell_type": "code",
   "execution_count": 14,
   "id": "b6c710c3",
   "metadata": {},
   "outputs": [
    {
     "name": "stdout",
     "output_type": "stream",
     "text": [
      "West Ham United 0.5578947368421052\n",
      "Manchester United 0.8736842105263158\n",
      "Arsenal 0.9157894736842105\n",
      "Leicester City 0.6947368421052632\n",
      "Swansea City 0.5394736842105263\n",
      "Burnley 0.5526315789473685\n",
      "Manchester City 1.0842105263157895\n",
      "Huddersfield 0.3684210526315789\n",
      "Chelsea 0.9368421052631579\n",
      "Middlesbrough 0.47368421052631576\n",
      "Stoke City 0.6973684210526315\n",
      "Norwich 0.5263157894736842\n",
      "Tottenham Hotspur 0.8526315789473684\n",
      "Newcastle 0.5263157894736842\n",
      "Hull City 0.5526315789473685\n",
      "Brighton 0.47368421052631576\n",
      "Wolves 0.5263157894736842\n",
      "Liverpool 0.9894736842105263\n",
      "Crystal Palace 0.49473684210526314\n",
      "Fulham 0.47368421052631576\n",
      "QPR 0.42105263157894735\n",
      "AFC Bournemouth 0.6447368421052632\n",
      "Aston Villa 0.47368421052631576\n",
      "West Bromwich Albion 0.5657894736842105\n",
      "Everton 0.7263157894736842\n",
      "Watford 0.4473684210526316\n",
      "Southampton 0.6842105263157895\n",
      "Cardiff 0.42105263157894735\n",
      "Sunderland 0.45614035087719296\n"
     ]
    }
   ],
   "source": [
    "for team in teams:\n",
    "    mg = np.mean(games[games[\"home_team\"] == team][\"HTHG\"])\n",
    "    print(team, mg)"
   ]
  },
  {
   "cell_type": "markdown",
   "id": "e34323b5",
   "metadata": {},
   "source": [
    "Look at the results above.\n",
    "\n",
    "**Which team has the highest number of goals by half-time on average?**"
   ]
  },
  {
   "cell_type": "markdown",
   "id": "5b0bda97",
   "metadata": {},
   "source": [
    "## Football questions\n",
    "\n",
    "Using the ideas above try and write code that will allow you to answer the following questions."
   ]
  },
  {
   "cell_type": "markdown",
   "id": "a7e90312",
   "metadata": {},
   "source": [
    "1. Which team has the highest average number of goals per game when playing at home?"
   ]
  },
  {
   "cell_type": "code",
   "execution_count": 15,
   "id": "1bda08d1",
   "metadata": {},
   "outputs": [
    {
     "name": "stdout",
     "output_type": "stream",
     "text": [
      "Manchester City 1.0842105263157895\n"
     ]
    }
   ],
   "source": [
    "# Example - looking at half time home goals (HTHG)\n",
    "highest_mean_goals = 0\n",
    "for team in teams:\n",
    "    mean_goals = np.mean(games[games[\"home_team\"] == team][\"HTHG\"])\n",
    "    if mean_goals > highest_mean_goals:\n",
    "        highest_mean_goals = mean_goals\n",
    "        best_team = team\n",
    "print(best_team, highest_mean_goals)"
   ]
  },
  {
   "cell_type": "code",
   "execution_count": 16,
   "id": "f0a116a5",
   "metadata": {},
   "outputs": [
    {
     "name": "stdout",
     "output_type": "stream",
     "text": [
      "Manchester City 2.5894736842105264\n"
     ]
    }
   ],
   "source": [
    "# Write a solution using full time home goals (HTHG), try making it more compact than above\n",
    "team_mean_goals = games.groupby(\"home_team\")[\"FTHG\"].mean()\n",
    "best_team = team_mean_goals.idxmax()\n",
    "highest_mean_goals = team_mean_goals.max()\n",
    "print(best_team, highest_mean_goals)"
   ]
  },
  {
   "cell_type": "markdown",
   "id": "9b743592",
   "metadata": {},
   "source": [
    "2. Which team has the highest average number of goals per game when playing away?"
   ]
  },
  {
   "cell_type": "code",
   "execution_count": 18,
   "id": "addd043b",
   "metadata": {},
   "outputs": [
    {
     "name": "stdout",
     "output_type": "stream",
     "text": [
      "QPR 2.5789473684210527\n"
     ]
    }
   ],
   "source": [
    "# Write your solution here\n",
    "team_mean_goals = games.groupby(\"away_team\")[\"FTHG\"].mean()\n",
    "best_team = team_mean_goals.idxmax()\n",
    "highest_mean_goals = team_mean_goals.max()\n",
    "print(best_team, highest_mean_goals)"
   ]
  },
  {
   "cell_type": "markdown",
   "id": "df1b2c2c",
   "metadata": {},
   "source": [
    "3. Which team has the biggest difference in its average home and away goals scored?"
   ]
  },
  {
   "cell_type": "code",
   "execution_count": 22,
   "id": "9d701b98",
   "metadata": {},
   "outputs": [
    {
     "name": "stdout",
     "output_type": "stream",
     "text": [
      "Manchester City 1.642105263157895\n"
     ]
    }
   ],
   "source": [
    "# Write your solution here\n",
    "team_mean_goals = games.groupby(\"home_team\")[\"FTHG\"].mean()\n",
    "team_mean_goals -= games.groupby(\"away_team\")[\"FTHG\"].mean()\n",
    "abs_team_mean_goals = abs(team_mean_goals)\n",
    "biggest_team = abs_team_mean_goals.idxmax()\n",
    "biggest_team_diff = abs_team_mean_goals.max()\n",
    "print(biggest_team, biggest_team_diff)"
   ]
  },
  {
   "cell_type": "markdown",
   "id": "f38fbfea",
   "metadata": {},
   "source": [
    "4. Which referee has issues the highest number of yellow cards per match on average?"
   ]
  },
  {
   "cell_type": "code",
   "execution_count": null,
   "id": "06966d16",
   "metadata": {},
   "outputs": [],
   "source": [
    "# Write your solution here\n",
    "# Hint: refs = list(set(games[\"Referee\"]))"
   ]
  },
  {
   "cell_type": "markdown",
   "id": "6c91024d",
   "metadata": {},
   "source": [
    "5. Which referee has issues the highest number of red cards per match on average?"
   ]
  },
  {
   "cell_type": "code",
   "execution_count": null,
   "id": "aa96b5e3",
   "metadata": {},
   "outputs": [],
   "source": [
    "# Write your solution here"
   ]
  },
  {
   "cell_type": "markdown",
   "id": "44d793ef",
   "metadata": {},
   "source": [
    "6. What was the highest scoring game played? i.e. total number of goals."
   ]
  },
  {
   "cell_type": "code",
   "execution_count": null,
   "id": "fb87b6c6",
   "metadata": {},
   "outputs": [],
   "source": [
    "# Write your solution here"
   ]
  },
  {
   "cell_type": "markdown",
   "id": "b0bdcedc",
   "metadata": {},
   "source": [
    "7. What is the name of the referee who has refereed the most matches?"
   ]
  },
  {
   "cell_type": "code",
   "execution_count": null,
   "id": "524a79f9",
   "metadata": {},
   "outputs": [],
   "source": [
    "# Write your solution here"
   ]
  },
  {
   "cell_type": "markdown",
   "id": "b9f1fd9b",
   "metadata": {},
   "source": [
    "8. Is there a difference to the number of red cards given to away teams compared to home teams?"
   ]
  },
  {
   "cell_type": "code",
   "execution_count": null,
   "id": "fed020a7",
   "metadata": {},
   "outputs": [],
   "source": [
    "# Write your solution here"
   ]
  },
  {
   "cell_type": "markdown",
   "id": "fb9970a2",
   "metadata": {},
   "source": [
    "9. What is the average number of goals scored in the 1st half of a match? In the 2nd half of a match?"
   ]
  },
  {
   "cell_type": "code",
   "execution_count": null,
   "id": "cb14c1f0",
   "metadata": {},
   "outputs": [],
   "source": [
    "# Write your solution here"
   ]
  },
  {
   "cell_type": "markdown",
   "id": "30627a84",
   "metadata": {},
   "source": [
    "# Plotting data"
   ]
  },
  {
   "cell_type": "markdown",
   "id": "12800d24",
   "metadata": {},
   "source": [
    "We will first load the matplotlib and seaborn modules that we are going to use for plotting."
   ]
  },
  {
   "cell_type": "code",
   "execution_count": null,
   "id": "792d1272",
   "metadata": {},
   "outputs": [],
   "source": [
    "%pip install seaborn"
   ]
  },
  {
   "cell_type": "code",
   "execution_count": null,
   "id": "d7f9a454",
   "metadata": {},
   "outputs": [],
   "source": [
    "import matplotlib.pylab as plt\n",
    "import seaborn"
   ]
  },
  {
   "cell_type": "markdown",
   "id": "fca763ce",
   "metadata": {},
   "source": [
    "We can examine the distribution of data stored in columns using 1 and 2-d histograms. This is easy to do using `matplotlib`s `hist` and `hist2d` functions."
   ]
  },
  {
   "cell_type": "markdown",
   "id": "6672c400",
   "metadata": {},
   "source": [
    "For example we can see that the home team more often scores 1 goal than 0 goals."
   ]
  },
  {
   "cell_type": "code",
   "execution_count": null,
   "id": "b36204dc",
   "metadata": {},
   "outputs": [],
   "source": [
    "plt.hist(games[\"FTHG\"], range(8))\n",
    "plt.show()"
   ]
  },
  {
   "cell_type": "markdown",
   "id": "825caa28",
   "metadata": {},
   "source": [
    "The distribution of the total number of goals shows that games with 2 goals are the most common,"
   ]
  },
  {
   "cell_type": "code",
   "execution_count": null,
   "id": "fbb529f2",
   "metadata": {},
   "outputs": [],
   "source": [
    "plt.hist(games[\"FTHG\"] + games[\"FTAG\"], range(11))\n",
    "plt.show()"
   ]
  },
  {
   "cell_type": "markdown",
   "id": "3cf5c2ce",
   "metadata": {},
   "source": [
    "More interestingly we can use a 2-D histogram to compare frequencies of pairs of values, e.g. home goals and away goals."
   ]
  },
  {
   "cell_type": "markdown",
   "id": "9eca2421",
   "metadata": {},
   "source": [
    "We could do this directly with `plt.hist2d` but in the example below we pass the output of hist2d to another plotting package called `seaborn` which can make slight nicer figures,"
   ]
  },
  {
   "cell_type": "code",
   "execution_count": null,
   "id": "6bc21cf4",
   "metadata": {},
   "outputs": [],
   "source": [
    "[h, x, y, i] = plt.hist2d(games[\"FTHG\"], games[\"FTAG\"], range(8))\n",
    "seaborn.heatmap(h.astype(\"int\"), annot=True, fmt=\"d\", cmap=\"coolwarm\")\n",
    "plt.show()"
   ]
  },
  {
   "cell_type": "markdown",
   "id": "687b6b9f",
   "metadata": {},
   "source": [
    "The plot above shows the 1-1 is the most common score. The lack of symetry down the diagonal demonstrates the home team advantage, i.e., 185 games are 1-0 compared to only 143 that are 0-1, etc.\n",
    "\n",
    "In the plot below we look at the distribution of home fouls against away fouls. If we look closely we can see that the home team commits more fouls than the away team."
   ]
  },
  {
   "cell_type": "code",
   "execution_count": null,
   "id": "624697d6",
   "metadata": {},
   "outputs": [],
   "source": [
    "[h, x, y, i] = plt.hist2d(games[\"HF\"], games[\"AF\"], range(20))\n",
    "seaborn.heatmap(h.astype(\"int\"), annot=True, fmt=\"d\", cmap=\"coolwarm\")\n",
    "plt.show()"
   ]
  },
  {
   "cell_type": "markdown",
   "id": "036d535a",
   "metadata": {},
   "source": [
    "We can also look and home vs away yellow cards..."
   ]
  },
  {
   "cell_type": "code",
   "execution_count": null,
   "id": "00ca5a6b",
   "metadata": {},
   "outputs": [],
   "source": [
    "[h, x, y, i] = plt.hist2d(games[\"HY\"], games[\"AY\"], range(8))\n",
    "seaborn.heatmap(h.astype(\"int\"), annot=True, fmt=\"d\", cmap=\"coolwarm\")\n",
    "plt.show()"
   ]
  },
  {
   "cell_type": "code",
   "execution_count": null,
   "id": "aa459a09",
   "metadata": {},
   "outputs": [],
   "source": [
    "sum(games[\"HY\"]), sum(games[\"AY\"])"
   ]
  },
  {
   "cell_type": "code",
   "execution_count": null,
   "id": "2cf93f54",
   "metadata": {},
   "outputs": [],
   "source": [
    "print(\"yellow cards: home \", sum(games[\"HY\"]), \"vs. away \", sum(games[\"AY\"]))\n",
    "print(\"fouls cards: home \", sum(games[\"HF\"]), \"vs. away \", sum(games[\"AF\"]))"
   ]
  },
  {
   "cell_type": "markdown",
   "id": "0e390c54",
   "metadata": {},
   "source": [
    "What causes this discrepancy? There are many possible reaosons, including, i) teams are fouling more often when playing away because they are more often behind, ii) teams are fouling the same amount home and away but there a bias in refereeing such that decisions more often go against the away team?\n",
    "\n",
    "**Can you think of ways in which you could analyse the data to try find evidence to support or reject these two explanations?**"
   ]
  },
  {
   "cell_type": "code",
   "execution_count": null,
   "id": "13051111",
   "metadata": {},
   "outputs": [],
   "source": []
  }
 ],
 "metadata": {
  "jupytext": {
   "formats": "ipynb,py:percent",
   "text_representation": {
    "extension": ".py",
    "format_name": "percent",
    "format_version": "1.2",
    "jupytext_version": "1.2.4"
   }
  },
  "kernelspec": {
   "display_name": "Python 3.10.7 ('env')",
   "language": "python",
   "name": "python3"
  },
  "language_info": {
   "codemirror_mode": {
    "name": "ipython",
    "version": 3
   },
   "file_extension": ".py",
   "mimetype": "text/x-python",
   "name": "python",
   "nbconvert_exporter": "python",
   "pygments_lexer": "ipython3",
   "version": "3.11.4"
  }
 },
 "nbformat": 4,
 "nbformat_minor": 5
}
