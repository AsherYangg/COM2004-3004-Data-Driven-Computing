{
 "cells": [
  {
   "cell_type": "markdown",
   "id": "edc4c72a",
   "metadata": {},
   "source": [
    "# Tutorial 4:  Further Python\n",
    "\n",
    "> COM2004/COM3004"
   ]
  },
  {
   "cell_type": "markdown",
   "id": "728fb053",
   "metadata": {},
   "source": [
    "*Copyright &copy; 2022 University of Sheffield. All rights reserved*."
   ]
  },
  {
   "cell_type": "markdown",
   "id": "faac86c6",
   "metadata": {},
   "source": [
    "The code used in the later lab classes uses some python features that have not been covered in the python introduction notebook. Some of these concepts are briefly covered here: list comprehensions, enumerate, inner functions, function passing. There are many, many good python text books and online resources that will cover these concepts in more detail."
   ]
  },
  {
   "cell_type": "markdown",
   "id": "0457e37d",
   "metadata": {},
   "source": [
    "## 1. List Comprehensions\n",
    "\n",
    "A list comprehension is a compact syntactical construct for performing efficient list processing."
   ]
  },
  {
   "cell_type": "markdown",
   "id": "0ad6732a",
   "metadata": {},
   "source": [
    "Consider the code below for making a list of the squared values of the numbers 1 to 10"
   ]
  },
  {
   "cell_type": "code",
   "execution_count": 1,
   "id": "70adc223",
   "metadata": {},
   "outputs": [
    {
     "name": "stdout",
     "output_type": "stream",
     "text": [
      "[1, 4, 9, 16, 25, 36, 49, 64, 81, 100]\n"
     ]
    }
   ],
   "source": [
    "lst = []\n",
    "for x in range(1, 11):\n",
    "    lst.append(x**2)\n",
    "print(lst)"
   ]
  },
  {
   "cell_type": "markdown",
   "id": "9d9f836c",
   "metadata": {},
   "source": [
    "This can be written more compactly using a list comprehension"
   ]
  },
  {
   "cell_type": "code",
   "execution_count": 2,
   "id": "b5181d85",
   "metadata": {},
   "outputs": [
    {
     "name": "stdout",
     "output_type": "stream",
     "text": [
      "[1, 4, 9, 16, 25, 36, 49, 64, 81, 100]\n"
     ]
    }
   ],
   "source": [
    "lst = [x**2 for x in range(1, 11)]\n",
    "print(lst)"
   ]
  },
  {
   "cell_type": "markdown",
   "id": "68994a24",
   "metadata": {},
   "source": [
    "The list comprehension version has fewer lines and therefore fewer opportunities for error. It is also more efficient, i.e., it will run faster."
   ]
  },
  {
   "cell_type": "markdown",
   "id": "b1d432bd",
   "metadata": {},
   "source": [
    "List comprehensions can also be used to filter the elements in a list. This is done using an `if` term. For example, if using a `for` loop, selecting and squaring values greater than 5 would be written as,"
   ]
  },
  {
   "cell_type": "code",
   "execution_count": 3,
   "id": "f930b9df",
   "metadata": {},
   "outputs": [
    {
     "name": "stdout",
     "output_type": "stream",
     "text": [
      "[7, 10, 12, 9]\n"
     ]
    }
   ],
   "source": [
    "mylist = [1, 7, 4, 10, 12, 3, 4, 9]\n",
    "lst = []\n",
    "for x in mylist:\n",
    "    if x > 5:\n",
    "        lst.append(x)\n",
    "print(lst)"
   ]
  },
  {
   "cell_type": "markdown",
   "id": "0b2ecece",
   "metadata": {},
   "source": [
    "Using a list comprehension this can be written in a single line,"
   ]
  },
  {
   "cell_type": "code",
   "execution_count": 4,
   "id": "381da7d9",
   "metadata": {},
   "outputs": [
    {
     "name": "stdout",
     "output_type": "stream",
     "text": [
      "[7, 10, 12, 9]\n"
     ]
    }
   ],
   "source": [
    "mylist = [1, 7, 4, 10, 12, 3, 4, 9]\n",
    "lst = [x for x in mylist if x > 5]\n",
    "print(lst)"
   ]
  },
  {
   "cell_type": "markdown",
   "id": "4b87f46d",
   "metadata": {},
   "source": [
    "Or for finding the even values in a list,"
   ]
  },
  {
   "cell_type": "code",
   "execution_count": 5,
   "id": "b1d5230a",
   "metadata": {},
   "outputs": [
    {
     "name": "stdout",
     "output_type": "stream",
     "text": [
      "[4, 10, 12, 4]\n"
     ]
    }
   ],
   "source": [
    "mylist = [1, 7, 4, 10, 12, 3, 4, 9]\n",
    "even = [x for x in mylist if x % 2 == 0]\n",
    "print(even)"
   ]
  },
  {
   "cell_type": "markdown",
   "id": "c5270786",
   "metadata": {},
   "source": [
    "If we wanted to construct the square of all the numbers greater than 5 we would use,"
   ]
  },
  {
   "cell_type": "code",
   "execution_count": 6,
   "id": "001dd825",
   "metadata": {},
   "outputs": [
    {
     "name": "stdout",
     "output_type": "stream",
     "text": [
      "[49, 100, 144, 81]\n"
     ]
    }
   ],
   "source": [
    "lst = [x**2 for x in mylist if x > 5]\n",
    "print(lst)"
   ]
  },
  {
   "cell_type": "markdown",
   "id": "7ebd9875",
   "metadata": {},
   "source": [
    "Remember, in Python, a string is a list of characters, so strings can also be processed with list comprehensiosn"
   ]
  },
  {
   "cell_type": "code",
   "execution_count": 7,
   "id": "89268fd0",
   "metadata": {},
   "outputs": [
    {
     "name": "stdout",
     "output_type": "stream",
     "text": [
      "['T', 'h', 'q', 'c', 'k', 'b', 'r', 'w', 'n', 'f', 'x', 'j', 'm', 'p', 's', 'v', 'r', 't', 'h', 'l', 'z', 'y', 'd', 'g']\n"
     ]
    }
   ],
   "source": [
    "mystring = \"The quick brown fox jumps over the lazy dog\"\n",
    "consonants = [x for x in mystring if x not in \"aeiou \"]\n",
    "print(consonants)"
   ]
  },
  {
   "cell_type": "code",
   "execution_count": 8,
   "id": "85fc7e29",
   "metadata": {},
   "outputs": [
    {
     "name": "stdout",
     "output_type": "stream",
     "text": [
      "['T', 'H', 'E', ' ', 'Q', 'U', 'I', 'C', 'K', ' ', 'B', 'R', 'O', 'W', 'N', ' ', 'F', 'O', 'X', ' ', 'J', 'U', 'M', 'P', 'S', ' ', 'O', 'V', 'E', 'R', ' ', 'T', 'H', 'E', ' ', 'L', 'A', 'Z', 'Y', ' ', 'D', 'O', 'G']\n"
     ]
    }
   ],
   "source": [
    "upper = [x.upper() for x in mystring]\n",
    "print(upper)"
   ]
  },
  {
   "cell_type": "markdown",
   "id": "dc3563f1",
   "metadata": {},
   "source": [
    "List comprehensions can also be nested,"
   ]
  },
  {
   "cell_type": "code",
   "execution_count": 9,
   "id": "5983937f",
   "metadata": {},
   "outputs": [
    {
     "name": "stdout",
     "output_type": "stream",
     "text": [
      "[(0, 0, 0), (0, 1, 0), (0, 2, 0), (0, 3, 0), (1, 0, 0), (1, 1, 1), (1, 2, 2), (1, 3, 3), (2, 0, 0), (2, 1, 2), (2, 2, 4), (2, 3, 6), (3, 0, 0), (3, 1, 3), (3, 2, 6), (3, 3, 9)]\n"
     ]
    }
   ],
   "source": [
    "lst = [(x, y, x * y) for x in range(4) for y in range(4)]\n",
    "print(lst)"
   ]
  },
  {
   "cell_type": "markdown",
   "id": "52572a65",
   "metadata": {},
   "source": [
    "List comprehensions are not only more compact, they also run a little bit faster than the standard loop based approach, compare"
   ]
  },
  {
   "cell_type": "code",
   "execution_count": 12,
   "id": "d54939e5",
   "metadata": {},
   "outputs": [
    {
     "name": "stdout",
     "output_type": "stream",
     "text": [
      "55.5 ms ± 2.02 ms per loop (mean ± std. dev. of 7 runs, 10 loops each)\n"
     ]
    }
   ],
   "source": [
    "def proc1():\n",
    "    mylist = []\n",
    "    for x in range(1000000):\n",
    "        mylist.append(x * x)\n",
    "\n",
    "\n",
    "%timeit proc1()"
   ]
  },
  {
   "cell_type": "code",
   "execution_count": 13,
   "id": "ea2f625e",
   "metadata": {},
   "outputs": [
    {
     "name": "stdout",
     "output_type": "stream",
     "text": [
      "62.9 ms ± 6.6 ms per loop (mean ± std. dev. of 7 runs, 10 loops each)\n"
     ]
    }
   ],
   "source": [
    "def proc2():\n",
    "    mylist = [x * x for x in range(1000000)]\n",
    "\n",
    "\n",
    "%timeit proc2()"
   ]
  },
  {
   "cell_type": "markdown",
   "id": "9442d299",
   "metadata": {},
   "source": [
    "On my machine the first approach has a run time of **117 ms** whereas the list comprehension takes **88 ms**, i.e., a decrease of 25%.\n",
    "\n",
    "In general, if you have a function that generates a list, or which processes a list to generate a new list, always look first to see if it can be written as a list comprehension. For loops with small bodies are often best written as list comprehensions. Sometimes a for loop with a large body can be broken down into a sequence of list comprehensions.\n",
    "\n",
    "Note, list comprehensions generate lists. There is a similar syntax for generating sets and dictionaries, ie. set and dictionary comprehensions."
   ]
  },
  {
   "cell_type": "code",
   "execution_count": 16,
   "id": "8a458025",
   "metadata": {},
   "outputs": [
    {
     "name": "stdout",
     "output_type": "stream",
     "text": [
      "[1, 2, 0, 1, 2, 0, 1, 2, 0, 1]\n",
      "{0, 1, 2}\n",
      "{1: 1, 2: 2, 3: 0, 4: 1, 5: 2, 6: 0, 7: 1, 8: 2, 9: 0, 10: 1}\n"
     ]
    }
   ],
   "source": [
    "# Modulus 3 for numbers 1 to 10\n",
    "my_list = [x % 3 for x in range(1, 11)]\n",
    "my_set = {x % 3 for x in range(1, 11)}\n",
    "my_dictionary = {x: x % 3 for x in range(1, 11)}\n",
    "print(my_list)\n",
    "print(my_set)\n",
    "print(my_dictionary)"
   ]
  },
  {
   "cell_type": "markdown",
   "id": "445c5bc1",
   "metadata": {},
   "source": [
    "## 2. The `enumerate` function"
   ]
  },
  {
   "cell_type": "markdown",
   "id": "4a59b1dd",
   "metadata": {},
   "source": [
    "`enumerate` is a builtin generator function that turns a list into a list of tuples such that the first element of each tuple is a list index, i..e., it adds an index to elements of a list. This is often very useful and allows us to rewrite some very common *for*-loop idioms in a more compact form.\n",
    "\n",
    "For example consider the bit of code below,"
   ]
  },
  {
   "cell_type": "code",
   "execution_count": 17,
   "id": "500d3ab1",
   "metadata": {},
   "outputs": [
    {
     "name": "stdout",
     "output_type": "stream",
     "text": [
      "(0, 'A')\n",
      "(1, 'B')\n",
      "(2, 'C')\n",
      "(3, 'D')\n",
      "(4, 'E')\n",
      "(5, 'F')\n",
      "(6, 'G')\n"
     ]
    }
   ],
   "source": [
    "index = 0\n",
    "for x in \"ABCDEFG\":\n",
    "    print((index, x))\n",
    "    index += 1"
   ]
  },
  {
   "cell_type": "markdown",
   "id": "21f6af74",
   "metadata": {},
   "source": [
    "Using enemurate this can be written far more easily as,"
   ]
  },
  {
   "cell_type": "code",
   "execution_count": 18,
   "id": "bbeba6fc",
   "metadata": {},
   "outputs": [
    {
     "name": "stdout",
     "output_type": "stream",
     "text": [
      "(0, 'A')\n",
      "(1, 'B')\n",
      "(2, 'C')\n",
      "(3, 'D')\n",
      "(4, 'E')\n",
      "(5, 'F')\n",
      "(6, 'G')\n"
     ]
    }
   ],
   "source": [
    "for x in enumerate(\"ABCDEFG\"):\n",
    "    print(x)"
   ]
  },
  {
   "cell_type": "markdown",
   "id": "4471e36d",
   "metadata": {},
   "source": [
    "If you want the index and the list element as separate variables then that is easy too,"
   ]
  },
  {
   "cell_type": "code",
   "execution_count": 19,
   "id": "3a232b85",
   "metadata": {},
   "outputs": [
    {
     "name": "stdout",
     "output_type": "stream",
     "text": [
      "A\n",
      "BB\n",
      "CCC\n",
      "DDDD\n",
      "EEEEE\n",
      "FFFFFF\n",
      "GGGGGGG\n"
     ]
    }
   ],
   "source": [
    "# Print 1 'A' followed by 2 'B's followed by 3 'C's etc\n",
    "for index, x in enumerate(\"ABCDEFG\"):\n",
    "    print(x * (index + 1))"
   ]
  },
  {
   "cell_type": "markdown",
   "id": "5b75ad8b",
   "metadata": {},
   "source": [
    "## 3. Passing functions as parameters to other functions"
   ]
  },
  {
   "cell_type": "markdown",
   "id": "f5ad2857",
   "metadata": {},
   "source": [
    "Python functions can be stored in variables and passed as parameters to other functions.\n",
    "\n",
    "For example, below we have a function called `tabulate` which tabulates the values of an arbitrary function. The function to be tabulated is passed as the first parameter. We also written functions called `square`, `cube` and `times7`. We can now pass any of these functions to the `tabulate` function,"
   ]
  },
  {
   "cell_type": "code",
   "execution_count": 20,
   "id": "1b8bc347",
   "metadata": {},
   "outputs": [
    {
     "name": "stdout",
     "output_type": "stream",
     "text": [
      "cubes from 10 to 20\n",
      "f(10) = 1000\n",
      "f(11) = 1331\n",
      "f(12) = 1728\n",
      "f(13) = 2197\n",
      "f(14) = 2744\n",
      "f(15) = 3375\n",
      "f(16) = 4096\n",
      "f(17) = 4913\n",
      "f(18) = 5832\n",
      "f(19) = 6859\n",
      "f(20) = 8000\n",
      "The seven times table\n",
      "f(1) = 7\n",
      "f(2) = 14\n",
      "f(3) = 21\n",
      "f(4) = 28\n",
      "f(5) = 35\n",
      "f(6) = 42\n",
      "f(7) = 49\n",
      "f(8) = 56\n",
      "f(9) = 63\n",
      "f(10) = 70\n",
      "f(11) = 77\n",
      "f(12) = 84\n"
     ]
    }
   ],
   "source": [
    "def tabulate(f, a, b):\n",
    "    \"\"\"Tabulate the function f between integer values a and b\"\"\"\n",
    "    for i in range(a, b + 1):\n",
    "        fi = f(i)\n",
    "        print(\n",
    "            f\"f({i}) = {fi}\"\n",
    "        )  # An 'fstring' - a string which embeds formatted variables\n",
    "\n",
    "\n",
    "def square(x):\n",
    "    return x * x\n",
    "\n",
    "\n",
    "def cube(x):\n",
    "    return x * x * x\n",
    "\n",
    "\n",
    "def times7(x):\n",
    "    return 7 * x\n",
    "\n",
    "\n",
    "print(\"cubes from 10 to 20\")\n",
    "tabulate(cube, 10, 20)\n",
    "print(\"The seven times table\")\n",
    "tabulate(times7, 1, 12)"
   ]
  },
  {
   "cell_type": "markdown",
   "id": "a42c6016",
   "metadata": {},
   "source": [
    "Note, we could also store the function we wish to tabuluate in a variable, say `f`, and then pass `f` to the `tabulate` function,"
   ]
  },
  {
   "cell_type": "code",
   "execution_count": 21,
   "id": "1ed302ba",
   "metadata": {},
   "outputs": [
    {
     "name": "stdout",
     "output_type": "stream",
     "text": [
      "f(10) = 1000\n",
      "f(11) = 1331\n",
      "f(12) = 1728\n",
      "f(13) = 2197\n",
      "f(14) = 2744\n",
      "f(15) = 3375\n",
      "f(16) = 4096\n",
      "f(17) = 4913\n",
      "f(18) = 5832\n",
      "f(19) = 6859\n",
      "f(20) = 8000\n"
     ]
    }
   ],
   "source": [
    "f = cube\n",
    "tabulate(f, 10, 20)"
   ]
  },
  {
   "cell_type": "markdown",
   "id": "ac8846ee",
   "metadata": {},
   "source": [
    "Functions behave just like any other type and can therefore be stored in lists, tuples, dictionaries, etc. For example, in the the cell below, the *for*-loop is iterating over a sequence of functions stored in a tuple,"
   ]
  },
  {
   "cell_type": "code",
   "execution_count": 23,
   "id": "488c7701",
   "metadata": {},
   "outputs": [
    {
     "name": "stdout",
     "output_type": "stream",
     "text": [
      "<function square at 0x000001BFC26728E0>\n",
      "f(1) = 1\n",
      "f(2) = 4\n",
      "f(3) = 9\n",
      "f(4) = 16\n",
      "f(5) = 25\n",
      "<function cube at 0x000001BFC26722A0>\n",
      "f(1) = 1\n",
      "f(2) = 8\n",
      "f(3) = 27\n",
      "f(4) = 64\n",
      "f(5) = 125\n",
      "<function times7 at 0x000001BFC2672980>\n",
      "f(1) = 7\n",
      "f(2) = 14\n",
      "f(3) = 21\n",
      "f(4) = 28\n",
      "f(5) = 35\n"
     ]
    }
   ],
   "source": [
    "for f in square, cube, times7:\n",
    "    print(f)\n",
    "    tabulate(f, 1, 5)"
   ]
  },
  {
   "cell_type": "markdown",
   "id": "5a757017",
   "metadata": {},
   "source": [
    "## 4. Inner functions\n",
    "\n",
    "A function can be defined inside another function. The 'inner' function will not be visible from outside the outer function"
   ]
  },
  {
   "cell_type": "code",
   "execution_count": 24,
   "id": "3f232220",
   "metadata": {},
   "outputs": [
    {
     "name": "stdout",
     "output_type": "stream",
     "text": [
      "The square of 10 is 100\n"
     ]
    }
   ],
   "source": [
    "def display_square(x):  # outer function\n",
    "    def square(x):  # inner function\n",
    "        return x * x\n",
    "\n",
    "    xx = square(x)\n",
    "    print(\"The square of\", x, \"is\", xx)\n",
    "\n",
    "\n",
    "display_square(10)"
   ]
  },
  {
   "cell_type": "markdown",
   "id": "45e46472",
   "metadata": {},
   "source": [
    "There is a  good discussion of the use cases for innter functions here https://realpython.com/inner-functions-what-are-they-good-for/, which includes the following example,"
   ]
  },
  {
   "cell_type": "code",
   "execution_count": 25,
   "id": "3e97e704",
   "metadata": {},
   "outputs": [
    {
     "name": "stdout",
     "output_type": "stream",
     "text": [
      "24\n"
     ]
    }
   ],
   "source": [
    "def factorial(number):\n",
    "\n",
    "    # Error handling\n",
    "    if not isinstance(number, int):\n",
    "        raise TypeError(\"Sorry. 'number' must be an integer.\")\n",
    "    if not number >= 0:\n",
    "        raise ValueError(\"Sorry. 'number' must be zero or positive.\")\n",
    "\n",
    "    def inner_factorial(number):\n",
    "        if number <= 1:\n",
    "            return 1\n",
    "        return number * inner_factorial(number - 1)\n",
    "\n",
    "    return inner_factorial(number)\n",
    "\n",
    "\n",
    "# Call the outer function.\n",
    "print(factorial(4))"
   ]
  },
  {
   "cell_type": "markdown",
   "id": "2226c8e2",
   "metadata": {},
   "source": [
    "See how the error checking reports an error if the user tries to compute the factorial of a negative integer"
   ]
  },
  {
   "cell_type": "code",
   "execution_count": null,
   "id": "95278d30",
   "metadata": {},
   "outputs": [],
   "source": [
    "# # Uncomment the following line to see the error handling in action.\n",
    "# print(factorial(-4))"
   ]
  },
  {
   "cell_type": "markdown",
   "id": "dcd0ba34",
   "metadata": {},
   "source": [
    "The advantage of using an innr function here is that the argument checking is performed once in the outer function and can then be safely skipped in the inner function."
   ]
  },
  {
   "cell_type": "markdown",
   "id": "5adc8c50",
   "metadata": {},
   "source": [
    "Note, inner functions inherit the scope of the outer function, i.e., variables declared in the outer function will be visible to the inner function even if they are not passed as parameters."
   ]
  },
  {
   "cell_type": "code",
   "execution_count": 26,
   "id": "82dd2179",
   "metadata": {},
   "outputs": [
    {
     "name": "stdout",
     "output_type": "stream",
     "text": [
      "10 20 30\n"
     ]
    }
   ],
   "source": [
    "def outer(a):\n",
    "    b = 20\n",
    "\n",
    "    def inner(c):\n",
    "        # c has been passed as a parameter, a and b are seen from the outer scope\n",
    "        print(a, b, c)\n",
    "\n",
    "    inner(30)\n",
    "\n",
    "\n",
    "outer(10)"
   ]
  },
  {
   "cell_type": "code",
   "execution_count": null,
   "id": "c9190a01",
   "metadata": {},
   "outputs": [],
   "source": []
  }
 ],
 "metadata": {
  "jupytext": {
   "cell_metadata_json": true,
   "formats": "ipynb,py:percent"
  },
  "kernelspec": {
   "display_name": "Python 3.10.7 ('env')",
   "language": "python",
   "name": "python3"
  },
  "language_info": {
   "codemirror_mode": {
    "name": "ipython",
    "version": 3
   },
   "file_extension": ".py",
   "mimetype": "text/x-python",
   "name": "python",
   "nbconvert_exporter": "python",
   "pygments_lexer": "ipython3",
   "version": "3.12.0"
  }
 },
 "nbformat": 4,
 "nbformat_minor": 5
}
