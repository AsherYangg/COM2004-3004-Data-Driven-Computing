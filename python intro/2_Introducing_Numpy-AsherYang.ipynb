{
 "cells": [
  {
   "cell_type": "markdown",
   "id": "1cf71e7e",
   "metadata": {},
   "source": [
    "# Tutorial 2: Introducing NumPy\n",
    "\n",
    "> COM2004/COM3004\n"
   ]
  },
  {
   "cell_type": "markdown",
   "id": "80b5137e",
   "metadata": {},
   "source": [
    "*Copyright &copy; 2022 University of Sheffield. All rights reserved*."
   ]
  },
  {
   "cell_type": "markdown",
   "id": "fb050020",
   "metadata": {},
   "source": [
    "## What is NumPy?\n",
    "\n",
    "NumPy is a core Python package for scientific computing\n",
    "\n",
    "* provides a powerful N-dimensional array object\n",
    "* highly optimised linear algebra tools\n",
    "* tight integration with C/C++ and Fortran code\n",
    "* licensed under a BSD license, i.e., freely reusable"
   ]
  },
  {
   "cell_type": "markdown",
   "id": "2e357823",
   "metadata": {},
   "source": [
    "## Importing NumPy\n",
    "\n",
    "Conventionally imported using,"
   ]
  },
  {
   "cell_type": "code",
   "execution_count": 1,
   "id": "a066f5e8",
   "metadata": {},
   "outputs": [],
   "source": [
    "import numpy as np"
   ]
  },
  {
   "cell_type": "markdown",
   "id": "595055ab",
   "metadata": {},
   "source": [
    "The Python keyword 'as' here allows us to use 'np' as a shorthand to refer to the 'numpy' module"
   ]
  },
  {
   "cell_type": "markdown",
   "id": "bd44fc38",
   "metadata": {},
   "source": [
    "## Generating a NumPy ndarray\n",
    "\n",
    "`numpy.ndarray` is a type for representing N-Dimensional arrays.\n",
    "\n",
    "Arrays can be generated either,\n",
    "\n",
    "* from Python lists containing numeric data\n",
    "* using NumPy array generating functions\n",
    "* reading data from a file"
   ]
  },
  {
   "cell_type": "markdown",
   "id": "c80f1b54",
   "metadata": {},
   "source": [
    "## Generating arrays from lists"
   ]
  },
  {
   "cell_type": "code",
   "execution_count": 2,
   "id": "b6fc7a0f",
   "metadata": {},
   "outputs": [
    {
     "name": "stdout",
     "output_type": "stream",
     "text": [
      "[1, 2, 3, 4, 5]\n",
      "[1 2 3 4 5]\n",
      "<class 'list'>\n"
     ]
    },
    {
     "data": {
      "text/plain": [
       "numpy.ndarray"
      ]
     },
     "execution_count": 2,
     "metadata": {},
     "output_type": "execute_result"
    }
   ],
   "source": [
    "my_list = [1, 2, 3, 4, 5]\n",
    "my_array = np.array(my_list)  # create a simple 1-D array\n",
    "print(my_list)\n",
    "print(my_array)\n",
    "print(type(my_list))\n",
    "type(my_array)"
   ]
  },
  {
   "cell_type": "code",
   "execution_count": 3,
   "id": "f3b8cccb",
   "metadata": {},
   "outputs": [
    {
     "name": "stdout",
     "output_type": "stream",
     "text": [
      "[[1. 2. 3.]\n",
      " [4. 5. 6.]\n",
      " [7. 8. 9.]]\n"
     ]
    },
    {
     "data": {
      "text/plain": [
       "numpy.ndarray"
      ]
     },
     "execution_count": 3,
     "metadata": {},
     "output_type": "execute_result"
    }
   ],
   "source": [
    "my_2d_array = np.array([[1., 2, 3], [4, 5, 6], [7, 8, 9]])\n",
    "print(my_2d_array)\n",
    "type(my_2d_array)"
   ]
  },
  {
   "cell_type": "markdown",
   "id": "a8181761",
   "metadata": {},
   "source": [
    "## The ndarray object's properties\n",
    "\n",
    "The `ndarray` has various properties that we can access,"
   ]
  },
  {
   "cell_type": "code",
   "execution_count": 4,
   "id": "af1aa3bd",
   "metadata": {},
   "outputs": [
    {
     "data": {
      "text/plain": [
       "(3, 3)"
      ]
     },
     "execution_count": 4,
     "metadata": {},
     "output_type": "execute_result"
    }
   ],
   "source": [
    "my_2d_array.shape"
   ]
  },
  {
   "cell_type": "code",
   "execution_count": 5,
   "id": "42ceaa6d",
   "metadata": {},
   "outputs": [
    {
     "data": {
      "text/plain": [
       "9"
      ]
     },
     "execution_count": 5,
     "metadata": {},
     "output_type": "execute_result"
    }
   ],
   "source": [
    "my_2d_array.size"
   ]
  },
  {
   "cell_type": "code",
   "execution_count": 6,
   "id": "8504a2ec",
   "metadata": {},
   "outputs": [
    {
     "data": {
      "text/plain": [
       "dtype('float64')"
      ]
     },
     "execution_count": 6,
     "metadata": {},
     "output_type": "execute_result"
    }
   ],
   "source": [
    "my_2d_array.dtype"
   ]
  },
  {
   "cell_type": "markdown",
   "id": "4d5ddafe",
   "metadata": {},
   "source": [
    "## N-dimensional arrays\n",
    "\n",
    "Note, NumPy generalises arrays to be N-dimensional."
   ]
  },
  {
   "cell_type": "code",
   "execution_count": 15,
   "id": "942e7b1f",
   "metadata": {},
   "outputs": [
    {
     "data": {
      "text/plain": [
       "(4, 2, 2)"
      ]
     },
     "execution_count": 15,
     "metadata": {},
     "output_type": "execute_result"
    }
   ],
   "source": [
    "x2 = np.array([[1, 2], [3, 4]])  # a matrix\n",
    "x3 = np.array([x2, x2, x2, x2])  # stacking two matrices\n",
    "x3.shape"
   ]
  },
  {
   "cell_type": "code",
   "execution_count": 8,
   "id": "ddb3781b",
   "metadata": {},
   "outputs": [
    {
     "data": {
      "text/plain": [
       "(5, 4, 2, 2)"
      ]
     },
     "execution_count": 8,
     "metadata": {},
     "output_type": "execute_result"
    }
   ],
   "source": [
    "x4 = np.array([x3, x3, x3, x3, x3])  # stacking 5 3-D structures\n",
    "x4.shape"
   ]
  },
  {
   "cell_type": "code",
   "execution_count": 9,
   "id": "18e7a917",
   "metadata": {},
   "outputs": [
    {
     "data": {
      "text/plain": [
       "(2, 5, 4, 2, 2)"
      ]
     },
     "execution_count": 9,
     "metadata": {},
     "output_type": "execute_result"
    }
   ],
   "source": [
    "x5 = np.array([x4, x4])  # stacking 2 4-D structures!\n",
    "x5.shape"
   ]
  },
  {
   "cell_type": "markdown",
   "id": "56d72f8e",
   "metadata": {},
   "source": [
    "But in COM2004/3004 we will only be using N=1 (vectors) and N=2 (matrices)."
   ]
  },
  {
   "cell_type": "markdown",
   "id": "076826e3",
   "metadata": {},
   "source": [
    "## Array generating functions"
   ]
  },
  {
   "cell_type": "code",
   "execution_count": 10,
   "id": "6f0fedc3",
   "metadata": {},
   "outputs": [
    {
     "data": {
      "text/plain": [
       "array([0, 1, 2, 3, 4, 5, 6, 7, 8, 9])"
      ]
     },
     "execution_count": 10,
     "metadata": {},
     "output_type": "execute_result"
    }
   ],
   "source": [
    "np.arange(10)"
   ]
  },
  {
   "cell_type": "code",
   "execution_count": 11,
   "id": "db51346e",
   "metadata": {},
   "outputs": [
    {
     "data": {
      "text/plain": [
       "array([100, 102, 104, 106, 108])"
      ]
     },
     "execution_count": 11,
     "metadata": {},
     "output_type": "execute_result"
    }
   ],
   "source": [
    "np.arange(100, 110, 2)  # start, stop, step"
   ]
  },
  {
   "cell_type": "code",
   "execution_count": 12,
   "id": "314c10b3",
   "metadata": {},
   "outputs": [
    {
     "data": {
      "text/plain": [
       "array([10. , 12.5, 15. , 17.5, 20. ])"
      ]
     },
     "execution_count": 12,
     "metadata": {},
     "output_type": "execute_result"
    }
   ],
   "source": [
    "np.linspace(10, 20, 5)  # start, stop, n-points"
   ]
  },
  {
   "cell_type": "code",
   "execution_count": 13,
   "id": "ea2acc88",
   "metadata": {},
   "outputs": [
    {
     "data": {
      "text/plain": [
       "array([[[0., 0., 0.],\n",
       "        [0., 0., 0.],\n",
       "        [0., 0., 0.]],\n",
       "\n",
       "       [[0., 0., 0.],\n",
       "        [0., 0., 0.],\n",
       "        [0., 0., 0.]],\n",
       "\n",
       "       [[0., 0., 0.],\n",
       "        [0., 0., 0.],\n",
       "        [0., 0., 0.]]])"
      ]
     },
     "execution_count": 13,
     "metadata": {},
     "output_type": "execute_result"
    }
   ],
   "source": [
    "np.zeros( (3, 3, 3) )  # Note, argument is a tuple"
   ]
  },
  {
   "cell_type": "code",
   "execution_count": 16,
   "id": "65f2be18",
   "metadata": {},
   "outputs": [
    {
     "data": {
      "text/plain": [
       "array([[1., 1., 1., 1., 1.],\n",
       "       [1., 1., 1., 1., 1.]])"
      ]
     },
     "execution_count": 16,
     "metadata": {},
     "output_type": "execute_result"
    }
   ],
   "source": [
    "np.ones((2, 5))"
   ]
  },
  {
   "cell_type": "markdown",
   "id": "67e651cb",
   "metadata": {},
   "source": [
    "## More array generating functions"
   ]
  },
  {
   "cell_type": "code",
   "execution_count": 17,
   "id": "47c5ac19",
   "metadata": {},
   "outputs": [
    {
     "data": {
      "text/plain": [
       "array([[4, 0, 0],\n",
       "       [0, 5, 0],\n",
       "       [0, 0, 3]])"
      ]
     },
     "execution_count": 17,
     "metadata": {},
     "output_type": "execute_result"
    }
   ],
   "source": [
    "np.diag((4, 5, 3))"
   ]
  },
  {
   "cell_type": "code",
   "execution_count": 18,
   "id": "11765050",
   "metadata": {},
   "outputs": [
    {
     "data": {
      "text/plain": [
       "array([[0, 0, 0, 2, 0],\n",
       "       [0, 0, 0, 0, 2],\n",
       "       [0, 0, 0, 0, 0],\n",
       "       [0, 0, 0, 0, 0],\n",
       "       [0, 0, 0, 0, 0]])"
      ]
     },
     "execution_count": 18,
     "metadata": {},
     "output_type": "execute_result"
    }
   ],
   "source": [
    "np.diag((2, 2), k=3)"
   ]
  },
  {
   "cell_type": "code",
   "execution_count": 19,
   "id": "f75ce7bf",
   "metadata": {},
   "outputs": [
    {
     "data": {
      "text/plain": [
       "array([[1, 2, 0],\n",
       "       [2, 1, 2],\n",
       "       [0, 2, 1]])"
      ]
     },
     "execution_count": 19,
     "metadata": {},
     "output_type": "execute_result"
    }
   ],
   "source": [
    "np.diag((1, 1, 1)) + np.diag((2, 2), k=1) + np.diag((2, 2), k=-1)"
   ]
  },
  {
   "cell_type": "code",
   "execution_count": 20,
   "id": "c6dacf56",
   "metadata": {},
   "outputs": [
    {
     "data": {
      "text/plain": [
       "array([[1., 0., 0., 0., 0., 0., 0., 0., 0., 0.],\n",
       "       [0., 1., 0., 0., 0., 0., 0., 0., 0., 0.],\n",
       "       [0., 0., 1., 0., 0., 0., 0., 0., 0., 0.],\n",
       "       [0., 0., 0., 1., 0., 0., 0., 0., 0., 0.],\n",
       "       [0., 0., 0., 0., 1., 0., 0., 0., 0., 0.],\n",
       "       [0., 0., 0., 0., 0., 1., 0., 0., 0., 0.],\n",
       "       [0., 0., 0., 0., 0., 0., 1., 0., 0., 0.],\n",
       "       [0., 0., 0., 0., 0., 0., 0., 1., 0., 0.],\n",
       "       [0., 0., 0., 0., 0., 0., 0., 0., 1., 0.],\n",
       "       [0., 0., 0., 0., 0., 0., 0., 0., 0., 1.]])"
      ]
     },
     "execution_count": 20,
     "metadata": {},
     "output_type": "execute_result"
    }
   ],
   "source": [
    "np.eye(10)"
   ]
  },
  {
   "cell_type": "markdown",
   "id": "95d78ea2",
   "metadata": {},
   "source": [
    "## Arrays initialised with random numbers"
   ]
  },
  {
   "cell_type": "code",
   "execution_count": 21,
   "id": "30ed6674",
   "metadata": {},
   "outputs": [
    {
     "data": {
      "text/plain": [
       "array([[0.61162342, 0.95058022, 0.67430102, 0.2864488 ],\n",
       "       [0.38936561, 0.4023055 , 0.68442083, 0.4014147 ]])"
      ]
     },
     "execution_count": 21,
     "metadata": {},
     "output_type": "execute_result"
    }
   ],
   "source": [
    "np.random.rand(2, 4)  # uniform distribution between 0 and 1"
   ]
  },
  {
   "cell_type": "code",
   "execution_count": 22,
   "id": "de188168",
   "metadata": {},
   "outputs": [
    {
     "data": {
      "text/plain": [
       "array([[-0.60599879,  0.48680762,  0.25610573, -1.67762703],\n",
       "       [ 0.11991801,  0.56506709, -1.17806031,  0.38213235]])"
      ]
     },
     "execution_count": 22,
     "metadata": {},
     "output_type": "execute_result"
    }
   ],
   "source": [
    "np.random.randn(2, 4)  # standard normal distribution"
   ]
  },
  {
   "cell_type": "markdown",
   "id": "40b335d3",
   "metadata": {},
   "source": [
    "## Reading arrays from files\n",
    "\n",
    "* `genfromtxt` and `savetxt` for reading and writing to text files.\n",
    "* `load` and `save` for reading and writing in NumPy's native format."
   ]
  },
  {
   "cell_type": "code",
   "execution_count": 23,
   "id": "21ff3d09",
   "metadata": {},
   "outputs": [
    {
     "ename": "FileNotFoundError",
     "evalue": "[Errno 2] No such file or directory: 'data/liver_data_20.txt'",
     "output_type": "error",
     "traceback": [
      "\u001b[1;31m---------------------------------------------------------------------------\u001b[0m",
      "\u001b[1;31mFileNotFoundError\u001b[0m                         Traceback (most recent call last)",
      "\u001b[1;32mc:\\Users\\Asher\\OneDrive\\COM2004-3004-Data-Driven-Computing\\python intro\\2_Introducing_Numpy.ipynb Cell 35\u001b[0m line \u001b[0;36m1\n\u001b[1;32m----> <a href='vscode-notebook-cell:/c%3A/Users/Asher/OneDrive/COM2004-3004-Data-Driven-Computing/python%20intro/2_Introducing_Numpy.ipynb#X46sZmlsZQ%3D%3D?line=0'>1</a>\u001b[0m get_ipython()\u001b[39m.\u001b[39;49mrun_line_magic(\u001b[39m'\u001b[39;49m\u001b[39mmore\u001b[39;49m\u001b[39m'\u001b[39;49m, \u001b[39m'\u001b[39;49m\u001b[39mdata/liver_data_20.txt\u001b[39;49m\u001b[39m'\u001b[39;49m)\n",
      "File \u001b[1;32m~\\AppData\\Roaming\\Python\\Python312\\site-packages\\IPython\\core\\interactiveshell.py:2432\u001b[0m, in \u001b[0;36mInteractiveShell.run_line_magic\u001b[1;34m(self, magic_name, line, _stack_depth)\u001b[0m\n\u001b[0;32m   2430\u001b[0m     kwargs[\u001b[39m'\u001b[39m\u001b[39mlocal_ns\u001b[39m\u001b[39m'\u001b[39m] \u001b[39m=\u001b[39m \u001b[39mself\u001b[39m\u001b[39m.\u001b[39mget_local_scope(stack_depth)\n\u001b[0;32m   2431\u001b[0m \u001b[39mwith\u001b[39;00m \u001b[39mself\u001b[39m\u001b[39m.\u001b[39mbuiltin_trap:\n\u001b[1;32m-> 2432\u001b[0m     result \u001b[39m=\u001b[39m fn(\u001b[39m*\u001b[39;49margs, \u001b[39m*\u001b[39;49m\u001b[39m*\u001b[39;49mkwargs)\n\u001b[0;32m   2434\u001b[0m \u001b[39m# The code below prevents the output from being displayed\u001b[39;00m\n\u001b[0;32m   2435\u001b[0m \u001b[39m# when using magics with decorator @output_can_be_silenced\u001b[39;00m\n\u001b[0;32m   2436\u001b[0m \u001b[39m# when the last Python token in the expression is a ';'.\u001b[39;00m\n\u001b[0;32m   2437\u001b[0m \u001b[39mif\u001b[39;00m \u001b[39mgetattr\u001b[39m(fn, magic\u001b[39m.\u001b[39mMAGIC_OUTPUT_CAN_BE_SILENCED, \u001b[39mFalse\u001b[39;00m):\n",
      "File \u001b[1;32m~\\AppData\\Roaming\\Python\\Python312\\site-packages\\ipykernel\\zmqshell.py:339\u001b[0m, in \u001b[0;36mKernelMagics.less\u001b[1;34m(self, arg_s)\u001b[0m\n\u001b[0;32m    337\u001b[0m     cont \u001b[39m=\u001b[39m \u001b[39mself\u001b[39m\u001b[39m.\u001b[39mshell\u001b[39m.\u001b[39mpycolorize(openpy\u001b[39m.\u001b[39mread_py_file(arg_s, skip_encoding_cookie\u001b[39m=\u001b[39m\u001b[39mFalse\u001b[39;00m))\n\u001b[0;32m    338\u001b[0m \u001b[39melse\u001b[39;00m:\n\u001b[1;32m--> 339\u001b[0m     \u001b[39mwith\u001b[39;00m \u001b[39mopen\u001b[39;49m(arg_s) \u001b[39mas\u001b[39;00m fid:\n\u001b[0;32m    340\u001b[0m         cont \u001b[39m=\u001b[39m fid\u001b[39m.\u001b[39mread()\n\u001b[0;32m    341\u001b[0m page\u001b[39m.\u001b[39mpage(cont)\n",
      "\u001b[1;31mFileNotFoundError\u001b[0m: [Errno 2] No such file or directory: 'data/liver_data_20.txt'"
     ]
    }
   ],
   "source": [
    "%more data/liver_data_20.txt"
   ]
  },
  {
   "cell_type": "code",
   "execution_count": 24,
   "id": "7b5a4dab",
   "metadata": {},
   "outputs": [
    {
     "ename": "FileNotFoundError",
     "evalue": "data/liver_data_20.txt not found.",
     "output_type": "error",
     "traceback": [
      "\u001b[1;31m---------------------------------------------------------------------------\u001b[0m",
      "\u001b[1;31mFileNotFoundError\u001b[0m                         Traceback (most recent call last)",
      "\u001b[1;32mc:\\Users\\Asher\\OneDrive\\COM2004-3004-Data-Driven-Computing\\python intro\\2_Introducing_Numpy.ipynb Cell 36\u001b[0m line \u001b[0;36m1\n\u001b[1;32m----> <a href='vscode-notebook-cell:/c%3A/Users/Asher/OneDrive/COM2004-3004-Data-Driven-Computing/python%20intro/2_Introducing_Numpy.ipynb#X50sZmlsZQ%3D%3D?line=0'>1</a>\u001b[0m x \u001b[39m=\u001b[39m np\u001b[39m.\u001b[39;49mgenfromtxt(\u001b[39m\"\u001b[39;49m\u001b[39mdata/liver_data_20.txt\u001b[39;49m\u001b[39m\"\u001b[39;49m, delimiter\u001b[39m=\u001b[39;49m\u001b[39m\"\u001b[39;49m\u001b[39m,\u001b[39;49m\u001b[39m\"\u001b[39;49m)  \u001b[39m# for reading a csv file\u001b[39;00m\n\u001b[0;32m      <a href='vscode-notebook-cell:/c%3A/Users/Asher/OneDrive/COM2004-3004-Data-Driven-Computing/python%20intro/2_Introducing_Numpy.ipynb#X50sZmlsZQ%3D%3D?line=1'>2</a>\u001b[0m \u001b[39m#x = np.loadtxt(\"data/liver_data_20.txt\", delimiter=\",\", dtype=float)\u001b[39;00m\n\u001b[0;32m      <a href='vscode-notebook-cell:/c%3A/Users/Asher/OneDrive/COM2004-3004-Data-Driven-Computing/python%20intro/2_Introducing_Numpy.ipynb#X50sZmlsZQ%3D%3D?line=2'>3</a>\u001b[0m \u001b[39mprint\u001b[39m(x)\n",
      "File \u001b[1;32md:\\Python\\Lib\\site-packages\\numpy\\lib\\npyio.py:1980\u001b[0m, in \u001b[0;36mgenfromtxt\u001b[1;34m(fname, dtype, comments, delimiter, skip_header, skip_footer, converters, missing_values, filling_values, usecols, names, excludelist, deletechars, replace_space, autostrip, case_sensitive, defaultfmt, unpack, usemask, loose, invalid_raise, max_rows, encoding, ndmin, like)\u001b[0m\n\u001b[0;32m   1978\u001b[0m     fname \u001b[39m=\u001b[39m os_fspath(fname)\n\u001b[0;32m   1979\u001b[0m \u001b[39mif\u001b[39;00m \u001b[39misinstance\u001b[39m(fname, \u001b[39mstr\u001b[39m):\n\u001b[1;32m-> 1980\u001b[0m     fid \u001b[39m=\u001b[39m np\u001b[39m.\u001b[39;49mlib\u001b[39m.\u001b[39;49m_datasource\u001b[39m.\u001b[39;49mopen(fname, \u001b[39m'\u001b[39;49m\u001b[39mrt\u001b[39;49m\u001b[39m'\u001b[39;49m, encoding\u001b[39m=\u001b[39;49mencoding)\n\u001b[0;32m   1981\u001b[0m     fid_ctx \u001b[39m=\u001b[39m contextlib\u001b[39m.\u001b[39mclosing(fid)\n\u001b[0;32m   1982\u001b[0m \u001b[39melse\u001b[39;00m:\n",
      "File \u001b[1;32md:\\Python\\Lib\\site-packages\\numpy\\lib\\_datasource.py:193\u001b[0m, in \u001b[0;36mopen\u001b[1;34m(path, mode, destpath, encoding, newline)\u001b[0m\n\u001b[0;32m    156\u001b[0m \u001b[39m\u001b[39m\u001b[39m\"\"\"\u001b[39;00m\n\u001b[0;32m    157\u001b[0m \u001b[39mOpen `path` with `mode` and return the file object.\u001b[39;00m\n\u001b[0;32m    158\u001b[0m \n\u001b[1;32m   (...)\u001b[0m\n\u001b[0;32m    189\u001b[0m \n\u001b[0;32m    190\u001b[0m \u001b[39m\"\"\"\u001b[39;00m\n\u001b[0;32m    192\u001b[0m ds \u001b[39m=\u001b[39m DataSource(destpath)\n\u001b[1;32m--> 193\u001b[0m \u001b[39mreturn\u001b[39;00m ds\u001b[39m.\u001b[39;49mopen(path, mode, encoding\u001b[39m=\u001b[39;49mencoding, newline\u001b[39m=\u001b[39;49mnewline)\n",
      "File \u001b[1;32md:\\Python\\Lib\\site-packages\\numpy\\lib\\_datasource.py:533\u001b[0m, in \u001b[0;36mDataSource.open\u001b[1;34m(self, path, mode, encoding, newline)\u001b[0m\n\u001b[0;32m    530\u001b[0m     \u001b[39mreturn\u001b[39;00m _file_openers[ext](found, mode\u001b[39m=\u001b[39mmode,\n\u001b[0;32m    531\u001b[0m                               encoding\u001b[39m=\u001b[39mencoding, newline\u001b[39m=\u001b[39mnewline)\n\u001b[0;32m    532\u001b[0m \u001b[39melse\u001b[39;00m:\n\u001b[1;32m--> 533\u001b[0m     \u001b[39mraise\u001b[39;00m \u001b[39mFileNotFoundError\u001b[39;00m(\u001b[39mf\u001b[39m\u001b[39m\"\u001b[39m\u001b[39m{\u001b[39;00mpath\u001b[39m}\u001b[39;00m\u001b[39m not found.\u001b[39m\u001b[39m\"\u001b[39m)\n",
      "\u001b[1;31mFileNotFoundError\u001b[0m: data/liver_data_20.txt not found."
     ]
    }
   ],
   "source": [
    "x = np.genfromtxt(\"data/liver_data_20.txt\", delimiter=\",\")  # for reading a csv file\n",
    "#x = np.loadtxt(\"data/liver_data_20.txt\", delimiter=\",\", dtype=float)\n",
    "print(x)"
   ]
  },
  {
   "cell_type": "code",
   "execution_count": null,
   "id": "a0e6bb17",
   "metadata": {},
   "outputs": [],
   "source": [
    "np.savetxt(\"data/matrix.csv\", x, delimiter=\"_\", fmt=\"%.5f\")"
   ]
  },
  {
   "cell_type": "code",
   "execution_count": null,
   "id": "cfeef573",
   "metadata": {},
   "outputs": [],
   "source": [
    "%more data/matrix.csv"
   ]
  },
  {
   "cell_type": "markdown",
   "id": "f786c968",
   "metadata": {},
   "source": [
    "## Array manipulation\n",
    "\n",
    "indexing is similar to Python lists"
   ]
  },
  {
   "cell_type": "code",
   "execution_count": 25,
   "id": "dd9ee60c",
   "metadata": {},
   "outputs": [
    {
     "name": "stdout",
     "output_type": "stream",
     "text": [
      "1\n",
      "[3 4 5]\n",
      "[1 2 3 4]\n",
      "[5 6 7]\n"
     ]
    }
   ],
   "source": [
    "x = np.array([1, 2, 3, 4, 5, 6, 7])\n",
    "print(x[0])\n",
    "print(x[2:5])\n",
    "print(x[:4])\n",
    "print(x[4:])"
   ]
  },
  {
   "cell_type": "markdown",
   "id": "d1a49b4e",
   "metadata": {},
   "source": [
    "But it is generalised to n-dimensions"
   ]
  },
  {
   "cell_type": "code",
   "execution_count": 26,
   "id": "74da3972",
   "metadata": {},
   "outputs": [
    {
     "name": "stdout",
     "output_type": "stream",
     "text": [
      "[[0.76127591 0.42831979]\n",
      " [0.70924863 0.0274972 ]]\n"
     ]
    }
   ],
   "source": [
    "x = np.random.rand(5, 5)\n",
    "print(x[2:4, :2])"
   ]
  },
  {
   "cell_type": "markdown",
   "id": "d24ea39f",
   "metadata": {},
   "source": [
    "## Extracting a row or column vector from a matrix"
   ]
  },
  {
   "cell_type": "code",
   "execution_count": 27,
   "id": "4adb0270",
   "metadata": {},
   "outputs": [
    {
     "ename": "FileNotFoundError",
     "evalue": "data/test_matrix.txt not found.",
     "output_type": "error",
     "traceback": [
      "\u001b[1;31m---------------------------------------------------------------------------\u001b[0m",
      "\u001b[1;31mFileNotFoundError\u001b[0m                         Traceback (most recent call last)",
      "\u001b[1;32mc:\\Users\\Asher\\OneDrive\\COM2004-3004-Data-Driven-Computing\\python intro\\2_Introducing_Numpy.ipynb Cell 44\u001b[0m line \u001b[0;36m1\n\u001b[1;32m----> <a href='vscode-notebook-cell:/c%3A/Users/Asher/OneDrive/COM2004-3004-Data-Driven-Computing/python%20intro/2_Introducing_Numpy.ipynb#X61sZmlsZQ%3D%3D?line=0'>1</a>\u001b[0m A \u001b[39m=\u001b[39m np\u001b[39m.\u001b[39;49mgenfromtxt(\u001b[39m\"\u001b[39;49m\u001b[39mdata/test_matrix.txt\u001b[39;49m\u001b[39m\"\u001b[39;49m)\n\u001b[0;32m      <a href='vscode-notebook-cell:/c%3A/Users/Asher/OneDrive/COM2004-3004-Data-Driven-Computing/python%20intro/2_Introducing_Numpy.ipynb#X61sZmlsZQ%3D%3D?line=1'>2</a>\u001b[0m \u001b[39mprint\u001b[39m(A)\n",
      "File \u001b[1;32md:\\Python\\Lib\\site-packages\\numpy\\lib\\npyio.py:1980\u001b[0m, in \u001b[0;36mgenfromtxt\u001b[1;34m(fname, dtype, comments, delimiter, skip_header, skip_footer, converters, missing_values, filling_values, usecols, names, excludelist, deletechars, replace_space, autostrip, case_sensitive, defaultfmt, unpack, usemask, loose, invalid_raise, max_rows, encoding, ndmin, like)\u001b[0m\n\u001b[0;32m   1978\u001b[0m     fname \u001b[39m=\u001b[39m os_fspath(fname)\n\u001b[0;32m   1979\u001b[0m \u001b[39mif\u001b[39;00m \u001b[39misinstance\u001b[39m(fname, \u001b[39mstr\u001b[39m):\n\u001b[1;32m-> 1980\u001b[0m     fid \u001b[39m=\u001b[39m np\u001b[39m.\u001b[39;49mlib\u001b[39m.\u001b[39;49m_datasource\u001b[39m.\u001b[39;49mopen(fname, \u001b[39m'\u001b[39;49m\u001b[39mrt\u001b[39;49m\u001b[39m'\u001b[39;49m, encoding\u001b[39m=\u001b[39;49mencoding)\n\u001b[0;32m   1981\u001b[0m     fid_ctx \u001b[39m=\u001b[39m contextlib\u001b[39m.\u001b[39mclosing(fid)\n\u001b[0;32m   1982\u001b[0m \u001b[39melse\u001b[39;00m:\n",
      "File \u001b[1;32md:\\Python\\Lib\\site-packages\\numpy\\lib\\_datasource.py:193\u001b[0m, in \u001b[0;36mopen\u001b[1;34m(path, mode, destpath, encoding, newline)\u001b[0m\n\u001b[0;32m    156\u001b[0m \u001b[39m\u001b[39m\u001b[39m\"\"\"\u001b[39;00m\n\u001b[0;32m    157\u001b[0m \u001b[39mOpen `path` with `mode` and return the file object.\u001b[39;00m\n\u001b[0;32m    158\u001b[0m \n\u001b[1;32m   (...)\u001b[0m\n\u001b[0;32m    189\u001b[0m \n\u001b[0;32m    190\u001b[0m \u001b[39m\"\"\"\u001b[39;00m\n\u001b[0;32m    192\u001b[0m ds \u001b[39m=\u001b[39m DataSource(destpath)\n\u001b[1;32m--> 193\u001b[0m \u001b[39mreturn\u001b[39;00m ds\u001b[39m.\u001b[39;49mopen(path, mode, encoding\u001b[39m=\u001b[39;49mencoding, newline\u001b[39m=\u001b[39;49mnewline)\n",
      "File \u001b[1;32md:\\Python\\Lib\\site-packages\\numpy\\lib\\_datasource.py:533\u001b[0m, in \u001b[0;36mDataSource.open\u001b[1;34m(self, path, mode, encoding, newline)\u001b[0m\n\u001b[0;32m    530\u001b[0m     \u001b[39mreturn\u001b[39;00m _file_openers[ext](found, mode\u001b[39m=\u001b[39mmode,\n\u001b[0;32m    531\u001b[0m                               encoding\u001b[39m=\u001b[39mencoding, newline\u001b[39m=\u001b[39mnewline)\n\u001b[0;32m    532\u001b[0m \u001b[39melse\u001b[39;00m:\n\u001b[1;32m--> 533\u001b[0m     \u001b[39mraise\u001b[39;00m \u001b[39mFileNotFoundError\u001b[39;00m(\u001b[39mf\u001b[39m\u001b[39m\"\u001b[39m\u001b[39m{\u001b[39;00mpath\u001b[39m}\u001b[39;00m\u001b[39m not found.\u001b[39m\u001b[39m\"\u001b[39m)\n",
      "\u001b[1;31mFileNotFoundError\u001b[0m: data/test_matrix.txt not found."
     ]
    }
   ],
   "source": [
    "A = np.genfromtxt(\"data/test_matrix.txt\")\n",
    "print(A)"
   ]
  },
  {
   "cell_type": "code",
   "execution_count": 28,
   "id": "6872ab4d",
   "metadata": {},
   "outputs": [
    {
     "ename": "NameError",
     "evalue": "name 'A' is not defined",
     "output_type": "error",
     "traceback": [
      "\u001b[1;31m---------------------------------------------------------------------------\u001b[0m",
      "\u001b[1;31mNameError\u001b[0m                                 Traceback (most recent call last)",
      "\u001b[1;32mc:\\Users\\Asher\\OneDrive\\COM2004-3004-Data-Driven-Computing\\python intro\\2_Introducing_Numpy.ipynb Cell 45\u001b[0m line \u001b[0;36m1\n\u001b[1;32m----> <a href='vscode-notebook-cell:/c%3A/Users/Asher/OneDrive/COM2004-3004-Data-Driven-Computing/python%20intro/2_Introducing_Numpy.ipynb#X62sZmlsZQ%3D%3D?line=0'>1</a>\u001b[0m \u001b[39mprint\u001b[39m(A[\u001b[39m2\u001b[39m, \u001b[39m1\u001b[39m:\u001b[39m4\u001b[39m])  \u001b[39m# extract row 2  (can also write as A[2])\u001b[39;00m\n\u001b[0;32m      <a href='vscode-notebook-cell:/c%3A/Users/Asher/OneDrive/COM2004-3004-Data-Driven-Computing/python%20intro/2_Introducing_Numpy.ipynb#X62sZmlsZQ%3D%3D?line=1'>2</a>\u001b[0m \u001b[39mprint\u001b[39m(A[\u001b[39m2\u001b[39m, \u001b[39m1\u001b[39m:\u001b[39m4\u001b[39m]\u001b[39m.\u001b[39mshape)\n",
      "\u001b[1;31mNameError\u001b[0m: name 'A' is not defined"
     ]
    }
   ],
   "source": [
    "print(A[2, 1:4])  # extract row 2  (can also write as A[2])\n",
    "print(A[2, 1:4].shape)"
   ]
  },
  {
   "cell_type": "code",
   "execution_count": null,
   "id": "edb32933",
   "metadata": {},
   "outputs": [],
   "source": [
    "print(A[:, 2])  # extract column 2\n",
    "print(A[:, 2].shape)"
   ]
  },
  {
   "cell_type": "markdown",
   "id": "036d5f4f",
   "metadata": {},
   "source": [
    "## Data processing\n",
    "\n",
    "The NumPy ndarray object has many methods.\n",
    "\n",
    "e.g., `min`, `max`, `sum`, `product`, `mean`"
   ]
  },
  {
   "cell_type": "code",
   "execution_count": 29,
   "id": "e3b6aa18",
   "metadata": {},
   "outputs": [],
   "source": [
    "x = np.array([1, 2, 3, 4, 5, 6])"
   ]
  },
  {
   "cell_type": "code",
   "execution_count": 30,
   "id": "e5da81aa",
   "metadata": {},
   "outputs": [
    {
     "data": {
      "text/plain": [
       "(1, 6)"
      ]
     },
     "execution_count": 30,
     "metadata": {},
     "output_type": "execute_result"
    }
   ],
   "source": [
    "x.min(), x.max()"
   ]
  },
  {
   "cell_type": "code",
   "execution_count": 31,
   "id": "99619ae7",
   "metadata": {},
   "outputs": [
    {
     "data": {
      "text/plain": [
       "(21, 720)"
      ]
     },
     "execution_count": 31,
     "metadata": {},
     "output_type": "execute_result"
    }
   ],
   "source": [
    "x.sum(), x.prod()"
   ]
  },
  {
   "cell_type": "code",
   "execution_count": 32,
   "id": "1a2d7dec",
   "metadata": {},
   "outputs": [
    {
     "data": {
      "text/plain": [
       "(3.5, 2.9166666666666665)"
      ]
     },
     "execution_count": 32,
     "metadata": {},
     "output_type": "execute_result"
    }
   ],
   "source": [
    "x.mean(), x.var()"
   ]
  },
  {
   "cell_type": "markdown",
   "id": "8504d923",
   "metadata": {},
   "source": [
    "## Data processing on matrices"
   ]
  },
  {
   "cell_type": "code",
   "execution_count": 33,
   "id": "b5d1ac45",
   "metadata": {},
   "outputs": [
    {
     "ename": "FileNotFoundError",
     "evalue": "data/test_matrix.txt not found.",
     "output_type": "error",
     "traceback": [
      "\u001b[1;31m---------------------------------------------------------------------------\u001b[0m",
      "\u001b[1;31mFileNotFoundError\u001b[0m                         Traceback (most recent call last)",
      "\u001b[1;32mc:\\Users\\Asher\\OneDrive\\COM2004-3004-Data-Driven-Computing\\python intro\\2_Introducing_Numpy.ipynb Cell 53\u001b[0m line \u001b[0;36m1\n\u001b[1;32m----> <a href='vscode-notebook-cell:/c%3A/Users/Asher/OneDrive/COM2004-3004-Data-Driven-Computing/python%20intro/2_Introducing_Numpy.ipynb#Y103sZmlsZQ%3D%3D?line=0'>1</a>\u001b[0m A \u001b[39m=\u001b[39m np\u001b[39m.\u001b[39;49mgenfromtxt(\u001b[39m\"\u001b[39;49m\u001b[39mdata/test_matrix.txt\u001b[39;49m\u001b[39m\"\u001b[39;49m)\n\u001b[0;32m      <a href='vscode-notebook-cell:/c%3A/Users/Asher/OneDrive/COM2004-3004-Data-Driven-Computing/python%20intro/2_Introducing_Numpy.ipynb#Y103sZmlsZQ%3D%3D?line=1'>2</a>\u001b[0m \u001b[39mprint\u001b[39m(A)\n",
      "File \u001b[1;32md:\\Python\\Lib\\site-packages\\numpy\\lib\\npyio.py:1980\u001b[0m, in \u001b[0;36mgenfromtxt\u001b[1;34m(fname, dtype, comments, delimiter, skip_header, skip_footer, converters, missing_values, filling_values, usecols, names, excludelist, deletechars, replace_space, autostrip, case_sensitive, defaultfmt, unpack, usemask, loose, invalid_raise, max_rows, encoding, ndmin, like)\u001b[0m\n\u001b[0;32m   1978\u001b[0m     fname \u001b[39m=\u001b[39m os_fspath(fname)\n\u001b[0;32m   1979\u001b[0m \u001b[39mif\u001b[39;00m \u001b[39misinstance\u001b[39m(fname, \u001b[39mstr\u001b[39m):\n\u001b[1;32m-> 1980\u001b[0m     fid \u001b[39m=\u001b[39m np\u001b[39m.\u001b[39;49mlib\u001b[39m.\u001b[39;49m_datasource\u001b[39m.\u001b[39;49mopen(fname, \u001b[39m'\u001b[39;49m\u001b[39mrt\u001b[39;49m\u001b[39m'\u001b[39;49m, encoding\u001b[39m=\u001b[39;49mencoding)\n\u001b[0;32m   1981\u001b[0m     fid_ctx \u001b[39m=\u001b[39m contextlib\u001b[39m.\u001b[39mclosing(fid)\n\u001b[0;32m   1982\u001b[0m \u001b[39melse\u001b[39;00m:\n",
      "File \u001b[1;32md:\\Python\\Lib\\site-packages\\numpy\\lib\\_datasource.py:193\u001b[0m, in \u001b[0;36mopen\u001b[1;34m(path, mode, destpath, encoding, newline)\u001b[0m\n\u001b[0;32m    156\u001b[0m \u001b[39m\u001b[39m\u001b[39m\"\"\"\u001b[39;00m\n\u001b[0;32m    157\u001b[0m \u001b[39mOpen `path` with `mode` and return the file object.\u001b[39;00m\n\u001b[0;32m    158\u001b[0m \n\u001b[1;32m   (...)\u001b[0m\n\u001b[0;32m    189\u001b[0m \n\u001b[0;32m    190\u001b[0m \u001b[39m\"\"\"\u001b[39;00m\n\u001b[0;32m    192\u001b[0m ds \u001b[39m=\u001b[39m DataSource(destpath)\n\u001b[1;32m--> 193\u001b[0m \u001b[39mreturn\u001b[39;00m ds\u001b[39m.\u001b[39;49mopen(path, mode, encoding\u001b[39m=\u001b[39;49mencoding, newline\u001b[39m=\u001b[39;49mnewline)\n",
      "File \u001b[1;32md:\\Python\\Lib\\site-packages\\numpy\\lib\\_datasource.py:533\u001b[0m, in \u001b[0;36mDataSource.open\u001b[1;34m(self, path, mode, encoding, newline)\u001b[0m\n\u001b[0;32m    530\u001b[0m     \u001b[39mreturn\u001b[39;00m _file_openers[ext](found, mode\u001b[39m=\u001b[39mmode,\n\u001b[0;32m    531\u001b[0m                               encoding\u001b[39m=\u001b[39mencoding, newline\u001b[39m=\u001b[39mnewline)\n\u001b[0;32m    532\u001b[0m \u001b[39melse\u001b[39;00m:\n\u001b[1;32m--> 533\u001b[0m     \u001b[39mraise\u001b[39;00m \u001b[39mFileNotFoundError\u001b[39;00m(\u001b[39mf\u001b[39m\u001b[39m\"\u001b[39m\u001b[39m{\u001b[39;00mpath\u001b[39m}\u001b[39;00m\u001b[39m not found.\u001b[39m\u001b[39m\"\u001b[39m)\n",
      "\u001b[1;31mFileNotFoundError\u001b[0m: data/test_matrix.txt not found."
     ]
    }
   ],
   "source": [
    "A = np.genfromtxt(\"data/test_matrix.txt\")\n",
    "print(A)"
   ]
  },
  {
   "cell_type": "code",
   "execution_count": null,
   "id": "67dc852a",
   "metadata": {},
   "outputs": [],
   "source": [
    "A.min(), A.max()"
   ]
  },
  {
   "cell_type": "code",
   "execution_count": null,
   "id": "906025b1",
   "metadata": {},
   "outputs": [],
   "source": [
    "A.mean(axis=0).shape  #, A.sum(), A.shape"
   ]
  },
  {
   "cell_type": "markdown",
   "id": "570d98cd",
   "metadata": {},
   "source": [
    "## Reshaping and resizing\n",
    "\n",
    "It's sometimes necessary to wrap a vector into a matrix or unwrap a matrix into a vector"
   ]
  },
  {
   "cell_type": "code",
   "execution_count": 34,
   "id": "face7efa",
   "metadata": {},
   "outputs": [
    {
     "name": "stdout",
     "output_type": "stream",
     "text": [
      "[[1 2 3]\n",
      " [4 5 6]\n",
      " [7 8 9]]\n"
     ]
    }
   ],
   "source": [
    "M = np.array([1, 2, 3, 4, 5, 6, 7, 8, 9]).reshape(3, 3)\n",
    "print(M)"
   ]
  },
  {
   "cell_type": "code",
   "execution_count": 35,
   "id": "ac483e3a",
   "metadata": {},
   "outputs": [
    {
     "name": "stdout",
     "output_type": "stream",
     "text": [
      "[1 2 3 4 5 6 7 8 9]\n"
     ]
    }
   ],
   "source": [
    "v = M.reshape(9)\n",
    "print(v)"
   ]
  },
  {
   "cell_type": "code",
   "execution_count": null,
   "id": "5e0acff8",
   "metadata": {},
   "outputs": [],
   "source": [
    "# The following line will generate an error\n",
    "# because reshape cannot change the number of elements\n",
    "\n",
    "#  v = M.reshape(8)"
   ]
  },
  {
   "cell_type": "markdown",
   "id": "5c892075",
   "metadata": {},
   "source": [
    "## Adding a new dimension\n",
    "\n",
    "Can easily turn 1-D vectors in 2-D matrices"
   ]
  },
  {
   "cell_type": "code",
   "execution_count": 36,
   "id": "0e015afa",
   "metadata": {},
   "outputs": [
    {
     "name": "stdout",
     "output_type": "stream",
     "text": [
      "[1 2 3 4 5]\n",
      "(5,)\n"
     ]
    }
   ],
   "source": [
    "v = np.array([1, 2, 3, 4, 5])\n",
    "print(v)\n",
    "print(v.shape)"
   ]
  },
  {
   "cell_type": "code",
   "execution_count": 37,
   "id": "f194ba76",
   "metadata": {},
   "outputs": [
    {
     "name": "stdout",
     "output_type": "stream",
     "text": [
      "[[1 2 3 4 5]]\n",
      "(1, 5)\n"
     ]
    }
   ],
   "source": [
    "v_row = v[np.newaxis, :]  # turn a vector into a 1-row matrix\n",
    "print(v_row)\n",
    "print(v_row.shape)"
   ]
  },
  {
   "cell_type": "code",
   "execution_count": 39,
   "id": "f563b5a6",
   "metadata": {},
   "outputs": [
    {
     "name": "stdout",
     "output_type": "stream",
     "text": [
      "[[1]\n",
      " [2]\n",
      " [3]\n",
      " [4]\n",
      " [5]]\n",
      "(5, 1)\n"
     ]
    }
   ],
   "source": [
    "v_col = v[:, np.newaxis]  # turn a vector into a 1-column matrix\n",
    "print(v_col)\n",
    "print(v_col.shape)"
   ]
  },
  {
   "cell_type": "markdown",
   "id": "bf41b96e",
   "metadata": {},
   "source": [
    "## Stacking arrays\n",
    "\n",
    "Arrays with compatible dimensions can be joined horizontally or vertically"
   ]
  },
  {
   "cell_type": "code",
   "execution_count": 40,
   "id": "398bde28",
   "metadata": {},
   "outputs": [
    {
     "name": "stdout",
     "output_type": "stream",
     "text": [
      "[[1. 1. 1.]\n",
      " [1. 1. 1.]]\n",
      "[[0. 0.]\n",
      " [0. 0.]]\n",
      "[[1. 1. 1. 0. 0. 1. 1. 1.]\n",
      " [1. 1. 1. 0. 0. 1. 1. 1.]]\n",
      "(2, 8)\n"
     ]
    }
   ],
   "source": [
    "x = np.ones((2, 3))\n",
    "y = np.zeros((2, 2))\n",
    "z = np.hstack((x, y, x))  # note, arrays passed as a tuple\n",
    "print(x)\n",
    "print(y)\n",
    "print(z)\n",
    "print(z.shape)"
   ]
  },
  {
   "cell_type": "code",
   "execution_count": 41,
   "id": "a31c289a",
   "metadata": {},
   "outputs": [
    {
     "name": "stdout",
     "output_type": "stream",
     "text": [
      "[[1. 1.]\n",
      " [1. 1.]\n",
      " [0. 0.]]\n",
      "(3, 2)\n"
     ]
    }
   ],
   "source": [
    "x = np.ones((2, 2))\n",
    "y = np.zeros((1, 2))\n",
    "z = np.vstack((x, y))\n",
    "print(z)\n",
    "print(z.shape)"
   ]
  },
  {
   "cell_type": "markdown",
   "id": "2e5bc7c9",
   "metadata": {},
   "source": [
    "## Tiling and repeating"
   ]
  },
  {
   "cell_type": "code",
   "execution_count": 42,
   "id": "e2dabd40",
   "metadata": {},
   "outputs": [
    {
     "data": {
      "text/plain": [
       "array([[1, 2, 1, 2, 1, 2],\n",
       "       [3, 4, 3, 4, 3, 4]])"
      ]
     },
     "execution_count": 42,
     "metadata": {},
     "output_type": "execute_result"
    }
   ],
   "source": [
    "x = np.array([[1, 2], [3, 4]])\n",
    "np.tile(x, 3)"
   ]
  },
  {
   "cell_type": "code",
   "execution_count": 43,
   "id": "74c19674",
   "metadata": {},
   "outputs": [
    {
     "data": {
      "text/plain": [
       "array([[1, 2, 1, 2, 1, 2, 1, 2],\n",
       "       [3, 4, 3, 4, 3, 4, 3, 4],\n",
       "       [1, 2, 1, 2, 1, 2, 1, 2],\n",
       "       [3, 4, 3, 4, 3, 4, 3, 4]])"
      ]
     },
     "execution_count": 43,
     "metadata": {},
     "output_type": "execute_result"
    }
   ],
   "source": [
    "np.tile(x, (2, 4))"
   ]
  },
  {
   "cell_type": "code",
   "execution_count": 44,
   "id": "bc6f66ae",
   "metadata": {},
   "outputs": [
    {
     "data": {
      "text/plain": [
       "array([1, 1, 1, 1, 2, 2, 2, 2, 3, 3, 3, 3, 4, 4, 4, 4])"
      ]
     },
     "execution_count": 44,
     "metadata": {},
     "output_type": "execute_result"
    }
   ],
   "source": [
    "np.repeat(x, 4)"
   ]
  },
  {
   "cell_type": "code",
   "execution_count": 45,
   "id": "c289f8da",
   "metadata": {},
   "outputs": [
    {
     "data": {
      "text/plain": [
       "array([[1, 2],\n",
       "       [1, 2],\n",
       "       [1, 2],\n",
       "       [1, 2],\n",
       "       [3, 4],\n",
       "       [3, 4],\n",
       "       [3, 4],\n",
       "       [3, 4]])"
      ]
     },
     "execution_count": 45,
     "metadata": {},
     "output_type": "execute_result"
    }
   ],
   "source": [
    "np.repeat(x, 4, axis=0)"
   ]
  },
  {
   "cell_type": "markdown",
   "id": "df10adc0",
   "metadata": {},
   "source": [
    "## Copying\n",
    "\n",
    "Arrays are handled by reference.\n",
    "\n",
    "When you do `A = B` you are just copying a reference, not the data itself."
   ]
  },
  {
   "cell_type": "code",
   "execution_count": 47,
   "id": "00ea9962",
   "metadata": {},
   "outputs": [
    {
     "name": "stdout",
     "output_type": "stream",
     "text": [
      "[10  2  3  4  5  6]\n"
     ]
    }
   ],
   "source": [
    "A = np.array([1, 2, 3, 4, 5, 6])\n",
    "B = A\n",
    "B[0] = 10\n",
    "print(A)"
   ]
  },
  {
   "cell_type": "markdown",
   "id": "c5d58985",
   "metadata": {},
   "source": [
    "Note, this is also true for Python lists and objects in general"
   ]
  },
  {
   "cell_type": "code",
   "execution_count": 48,
   "id": "797daa9b",
   "metadata": {},
   "outputs": [
    {
     "name": "stdout",
     "output_type": "stream",
     "text": [
      "[10, 2, 3, 4]\n"
     ]
    }
   ],
   "source": [
    "A = [1, 2, 3, 4]\n",
    "B = A\n",
    "B[0] = 10\n",
    "print(A)"
   ]
  },
  {
   "cell_type": "markdown",
   "id": "e607ba4f",
   "metadata": {},
   "source": [
    "So how do we make a real copy?"
   ]
  },
  {
   "cell_type": "markdown",
   "id": "8162685e",
   "metadata": {},
   "source": [
    "## Deep Copy\n",
    "\n",
    "To actually copy the data stored in the array we use the NumPy copy method,"
   ]
  },
  {
   "cell_type": "code",
   "execution_count": 49,
   "id": "d6ece685",
   "metadata": {},
   "outputs": [
    {
     "name": "stdout",
     "output_type": "stream",
     "text": [
      "[1 2 3 4]\n"
     ]
    }
   ],
   "source": [
    "A = np.array([1, 2, 3, 4])\n",
    "B = A.copy()  # can also write, B = np.copy(A)\n",
    "B[0] = 10\n",
    "print(A)"
   ]
  },
  {
   "cell_type": "markdown",
   "id": "9428521b",
   "metadata": {},
   "source": [
    "Note, to copy Python *lists*, we first need to import the copy module,\n",
    "\n"
   ]
  },
  {
   "cell_type": "code",
   "execution_count": 50,
   "id": "2d6bfdf3",
   "metadata": {},
   "outputs": [],
   "source": [
    "import copy\n",
    "\n",
    "A = [1, 2, 3, 4]\n",
    "B = copy.deepcopy(A)"
   ]
  },
  {
   "cell_type": "markdown",
   "id": "5183af7a",
   "metadata": {},
   "source": [
    "(Don't confuse NumPy ndarrays and Python lists...)"
   ]
  },
  {
   "cell_type": "markdown",
   "id": "4a816ef0",
   "metadata": {},
   "source": [
    "## Matrix operations\n",
    "\n",
    "NumPy implements all common array operations,\n",
    "\n",
    "* addition, subtraction,\n",
    "* transpose\n",
    "* multiplication,\n",
    "* inverse"
   ]
  },
  {
   "cell_type": "markdown",
   "id": "8e756140",
   "metadata": {},
   "source": [
    "## Array addition and substraction"
   ]
  },
  {
   "cell_type": "code",
   "execution_count": 51,
   "id": "17b0408a",
   "metadata": {},
   "outputs": [
    {
     "name": "stdout",
     "output_type": "stream",
     "text": [
      "[[1 2 3]\n",
      " [4 5 6]]\n",
      "[[1. 1. 1.]\n",
      " [1. 1. 1.]]\n"
     ]
    }
   ],
   "source": [
    "X = np.array([[1, 2, 3], [4, 5, 6]])\n",
    "Y = np.ones((2, 3))\n",
    "print(X)\n",
    "print(Y)"
   ]
  },
  {
   "cell_type": "code",
   "execution_count": 52,
   "id": "58d982d3",
   "metadata": {},
   "outputs": [
    {
     "name": "stdout",
     "output_type": "stream",
     "text": [
      "[[2. 3. 4.]\n",
      " [5. 6. 7.]]\n"
     ]
    }
   ],
   "source": [
    "print(X + Y)"
   ]
  },
  {
   "cell_type": "code",
   "execution_count": 53,
   "id": "ff5484cf",
   "metadata": {},
   "outputs": [
    {
     "data": {
      "text/plain": [
       "array([[-1.,  0.,  1.],\n",
       "       [ 2.,  3.,  4.]])"
      ]
     },
     "execution_count": 53,
     "metadata": {},
     "output_type": "execute_result"
    }
   ],
   "source": [
    "X - 2 * Y  # note, scalar multiplication"
   ]
  },
  {
   "cell_type": "code",
   "execution_count": 55,
   "id": "34cc9b90",
   "metadata": {},
   "outputs": [
    {
     "ename": "ValueError",
     "evalue": "operands could not be broadcast together with shapes (2,3) (2,2) ",
     "output_type": "error",
     "traceback": [
      "\u001b[1;31m---------------------------------------------------------------------------\u001b[0m",
      "\u001b[1;31mValueError\u001b[0m                                Traceback (most recent call last)",
      "\u001b[1;32mc:\\Users\\Asher\\OneDrive\\COM2004-3004-Data-Driven-Computing\\python intro\\2_Introducing_Numpy.ipynb Cell 87\u001b[0m line \u001b[0;36m1\n\u001b[1;32m----> <a href='vscode-notebook-cell:/c%3A/Users/Asher/OneDrive/COM2004-3004-Data-Driven-Computing/python%20intro/2_Introducing_Numpy.ipynb#Y152sZmlsZQ%3D%3D?line=0'>1</a>\u001b[0m X \u001b[39m+\u001b[39;49m np\u001b[39m.\u001b[39;49marray([[\u001b[39m2\u001b[39;49m, \u001b[39m2\u001b[39;49m], [\u001b[39m2\u001b[39;49m, \u001b[39m2\u001b[39;49m]])\n",
      "\u001b[1;31mValueError\u001b[0m: operands could not be broadcast together with shapes (2,3) (2,2) "
     ]
    }
   ],
   "source": [
    "# X + np.array([[2, 2], [2, 2]])"
   ]
  },
  {
   "cell_type": "markdown",
   "id": "e13b9483",
   "metadata": {},
   "source": [
    "## Broadcasting\n",
    "\n",
    "During operation NumPy will try to repeat an array to make dimensions fit. This is called 'broadcasting'. It's convenient but it can be confusing."
   ]
  },
  {
   "cell_type": "code",
   "execution_count": 56,
   "id": "2e5c878d",
   "metadata": {},
   "outputs": [
    {
     "name": "stdout",
     "output_type": "stream",
     "text": [
      "[[1 2 3]\n",
      " [4 5 6]]\n",
      "[1 1 1]\n"
     ]
    }
   ],
   "source": [
    "X = np.array([[1, 2, 3], [4, 5, 6]])\n",
    "row = np.array([1, 1, 1])\n",
    "print(X)\n",
    "print(row)"
   ]
  },
  {
   "cell_type": "code",
   "execution_count": 57,
   "id": "cabcc6f3",
   "metadata": {},
   "outputs": [
    {
     "name": "stdout",
     "output_type": "stream",
     "text": [
      "[[2 3 4]\n",
      " [5 6 7]]\n"
     ]
    }
   ],
   "source": [
    "print(X + row)"
   ]
  },
  {
   "cell_type": "code",
   "execution_count": 58,
   "id": "ad8dc6b1",
   "metadata": {},
   "outputs": [
    {
     "name": "stdout",
     "output_type": "stream",
     "text": [
      "[1 2]\n"
     ]
    }
   ],
   "source": [
    "col = np.array([1, 2])\n",
    "print(col)"
   ]
  },
  {
   "cell_type": "code",
   "execution_count": 59,
   "id": "66f183df",
   "metadata": {},
   "outputs": [
    {
     "name": "stdout",
     "output_type": "stream",
     "text": [
      "[[2 3 4]\n",
      " [6 7 8]]\n"
     ]
    }
   ],
   "source": [
    "print(X + col[:, np.newaxis])"
   ]
  },
  {
   "cell_type": "markdown",
   "id": "0472c933",
   "metadata": {},
   "source": [
    "## Transpose\n",
    "\n",
    "Transposing a matrix swaps the rows and columns."
   ]
  },
  {
   "cell_type": "code",
   "execution_count": 60,
   "id": "32c4884c",
   "metadata": {},
   "outputs": [
    {
     "name": "stdout",
     "output_type": "stream",
     "text": [
      "[[1 2 3]\n",
      " [4 5 6]]\n"
     ]
    }
   ],
   "source": [
    "A = np.array([[1, 2, 3], [4, 5, 6]])\n",
    "print(A)"
   ]
  },
  {
   "cell_type": "code",
   "execution_count": 61,
   "id": "20910a07",
   "metadata": {},
   "outputs": [
    {
     "name": "stdout",
     "output_type": "stream",
     "text": [
      "[[1 4]\n",
      " [2 5]\n",
      " [3 6]]\n"
     ]
    }
   ],
   "source": [
    "print(A.T)"
   ]
  },
  {
   "cell_type": "code",
   "execution_count": 62,
   "id": "5e08d070",
   "metadata": {},
   "outputs": [
    {
     "data": {
      "text/plain": [
       "((2, 3), (3, 2))"
      ]
     },
     "execution_count": 62,
     "metadata": {},
     "output_type": "execute_result"
    }
   ],
   "source": [
    "A.shape, A.T.shape"
   ]
  },
  {
   "cell_type": "code",
   "execution_count": 63,
   "id": "59c67e03",
   "metadata": {},
   "outputs": [
    {
     "name": "stdout",
     "output_type": "stream",
     "text": [
      "[1 2 3 4 5]\n"
     ]
    }
   ],
   "source": [
    "v = np.array([1, 2, 3, 4, 5])\n",
    "print(v)"
   ]
  },
  {
   "cell_type": "code",
   "execution_count": 64,
   "id": "eb101c53",
   "metadata": {},
   "outputs": [
    {
     "name": "stdout",
     "output_type": "stream",
     "text": [
      "[1 2 3 4 5]\n"
     ]
    }
   ],
   "source": [
    "print(v.T)  # Vectors only have one dimension. Transpose does nothing."
   ]
  },
  {
   "cell_type": "code",
   "execution_count": 65,
   "id": "5efb4d90",
   "metadata": {},
   "outputs": [
    {
     "data": {
      "text/plain": [
       "((5,), (5,))"
      ]
     },
     "execution_count": 65,
     "metadata": {},
     "output_type": "execute_result"
    }
   ],
   "source": [
    "v.shape, v.T.shape"
   ]
  },
  {
   "cell_type": "markdown",
   "id": "e324fae3",
   "metadata": {},
   "source": [
    "## Vectors versus `skinny' matrices\n",
    "\n",
    "When using NumPy, a vector is **not** the same as a matrix with one column."
   ]
  },
  {
   "cell_type": "code",
   "execution_count": 66,
   "id": "1fcb6669",
   "metadata": {},
   "outputs": [
    {
     "name": "stdout",
     "output_type": "stream",
     "text": [
      "[1 2 3 4 5]\n",
      "[1 2 3 4 5]\n",
      "(5,)\n"
     ]
    }
   ],
   "source": [
    "v = np.array([1, 2, 3, 4, 5])  # A vector - has 1 dimension\n",
    "print(v)\n",
    "print(v.T)\n",
    "print(v.shape)"
   ]
  },
  {
   "cell_type": "code",
   "execution_count": 67,
   "id": "9d21a4d7",
   "metadata": {},
   "outputs": [
    {
     "name": "stdout",
     "output_type": "stream",
     "text": [
      "[[1 2 3 4 5]]\n",
      "(1, 5)\n"
     ]
    }
   ],
   "source": [
    "M_row = np.array([[1, 2, 3, 4, 5]])  # A matrix - has 2 dimensions\n",
    "print(M_row)\n",
    "print(M_row.shape)"
   ]
  },
  {
   "cell_type": "code",
   "execution_count": 68,
   "id": "c7bd165f",
   "metadata": {},
   "outputs": [
    {
     "name": "stdout",
     "output_type": "stream",
     "text": [
      "[[1]\n",
      " [2]\n",
      " [3]\n",
      " [4]\n",
      " [5]]\n",
      "(5, 1)\n"
     ]
    }
   ],
   "source": [
    "M_col = np.array([[1, 2, 3, 4, 5]]).T  # A matrix can be transposed\n",
    "print(M_col)\n",
    "print(M_col.shape)"
   ]
  },
  {
   "cell_type": "markdown",
   "id": "cf9cc829",
   "metadata": {},
   "source": [
    "## Multiplication\n",
    "\n",
    "The '*' operator performs 'elementwise' multiplication"
   ]
  },
  {
   "cell_type": "code",
   "execution_count": 69,
   "id": "90bc5403",
   "metadata": {},
   "outputs": [
    {
     "data": {
      "text/plain": [
       "array([[ 1,  4,  9],\n",
       "       [16, 25, 36]])"
      ]
     },
     "execution_count": 69,
     "metadata": {},
     "output_type": "execute_result"
    }
   ],
   "source": [
    "A = np.array([[1, 2, 3], [4, 5, 6]])\n",
    "A * A"
   ]
  },
  {
   "cell_type": "markdown",
   "id": "36d4eea2",
   "metadata": {},
   "source": [
    "Standard 'matrix multiplication' is performed using the `dot`\n",
    "function"
   ]
  },
  {
   "cell_type": "code",
   "execution_count": 70,
   "id": "81b0b238",
   "metadata": {},
   "outputs": [
    {
     "data": {
      "text/plain": [
       "array([[14, 32],\n",
       "       [32, 77]])"
      ]
     },
     "execution_count": 70,
     "metadata": {},
     "output_type": "execute_result"
    }
   ],
   "source": [
    "np.dot(A, A.T)  # Multipy 2x3 matrix A and 3x2 matrix A.T (AA')"
   ]
  },
  {
   "cell_type": "code",
   "execution_count": 71,
   "id": "893bdc82",
   "metadata": {},
   "outputs": [
    {
     "data": {
      "text/plain": [
       "array([14, 32])"
      ]
     },
     "execution_count": 71,
     "metadata": {},
     "output_type": "execute_result"
    }
   ],
   "source": [
    "v = np.array([1, 2, 3])\n",
    "np.dot(A, v)  # Multiply 2x3 matrix A and 3-element vector (Av)"
   ]
  },
  {
   "cell_type": "markdown",
   "id": "b91feb3b",
   "metadata": {},
   "source": [
    "## Matrix inverse\n",
    "\n",
    "Matrix determinant and inverse function are provided by the linalg submodule of NumPy."
   ]
  },
  {
   "cell_type": "code",
   "execution_count": 72,
   "id": "5c95c423",
   "metadata": {},
   "outputs": [
    {
     "name": "stdout",
     "output_type": "stream",
     "text": [
      "[[2 1]\n",
      " [3 2]]\n"
     ]
    }
   ],
   "source": [
    "A = np.array([[2, 1], [3, 2]])\n",
    "print(A)"
   ]
  },
  {
   "cell_type": "code",
   "execution_count": 73,
   "id": "7150ba38",
   "metadata": {},
   "outputs": [
    {
     "data": {
      "text/plain": [
       "0.9999999999999998"
      ]
     },
     "execution_count": 73,
     "metadata": {},
     "output_type": "execute_result"
    }
   ],
   "source": [
    "np.linalg.det(A)"
   ]
  },
  {
   "cell_type": "code",
   "execution_count": 74,
   "id": "0b89af96",
   "metadata": {},
   "outputs": [
    {
     "data": {
      "text/plain": [
       "array([[ 2., -1.],\n",
       "       [-3.,  2.]])"
      ]
     },
     "execution_count": 74,
     "metadata": {},
     "output_type": "execute_result"
    }
   ],
   "source": [
    "np.linalg.inv(A)"
   ]
  },
  {
   "cell_type": "markdown",
   "id": "01f58b6c",
   "metadata": {},
   "source": [
    "## Summary\n",
    "\n",
    "* NumPy provides tools for numeric computing.\n",
    "* With NumPy, Python becomes a usable alternative to MATLAB.\n",
    "* NumPy's basic type is the `ndarray` -- it can represent vectors, matrices, etc.\n",
    "* Lots of tools for vector and matrix manipulation.\n",
    "    - This lecture has only reviewed the most commonly used.\n",
    "* For the full documentation see [http://docs.scipy.org/doc/numpy/](http://docs.scipy.org/doc/numpy/)"
   ]
  },
  {
   "cell_type": "markdown",
   "id": "62e08bd1",
   "metadata": {},
   "source": []
  }
 ],
 "metadata": {
  "jupytext": {
   "cell_metadata_json": true,
   "formats": "ipynb,py:percent"
  },
  "kernelspec": {
   "display_name": "Python 3.10.7 ('env')",
   "language": "python",
   "name": "python3"
  },
  "language_info": {
   "codemirror_mode": {
    "name": "ipython",
    "version": 3
   },
   "file_extension": ".py",
   "mimetype": "text/x-python",
   "name": "python",
   "nbconvert_exporter": "python",
   "pygments_lexer": "ipython3",
   "version": "3.12.0"
  }
 },
 "nbformat": 4,
 "nbformat_minor": 5
}
