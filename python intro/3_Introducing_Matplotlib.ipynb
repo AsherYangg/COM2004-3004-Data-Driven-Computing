{
 "cells": [
  {
   "cell_type": "markdown",
   "id": "a11913a7",
   "metadata": {},
   "source": [
    "# Tutorial 3: Plotting with Matplotlib\n",
    "\n",
    "> COM2004/COM3004"
   ]
  },
  {
   "cell_type": "markdown",
   "id": "2273b83f",
   "metadata": {},
   "source": [
    "*Copyright &copy; 2022 University of Sheffield. All rights reserved*."
   ]
  },
  {
   "cell_type": "markdown",
   "id": "e5f97b1e",
   "metadata": {},
   "source": [
    "# What is Matplotlib?\n",
    "\n",
    "* Matplotlib is a Python module for generating 2D and 3D plots\n",
    "* it is based on the plotting tools from MATLAB\n",
    "* it is extremely flexible - all aspects of plots can be controlled programmatically\n",
    "* it can produce graphs, barcharts, scatter plots, contour and surface plots, etc\n",
    "* it can produce very high quality output in numerous formats (png, pdf, svg, etc)"
   ]
  },
  {
   "cell_type": "markdown",
   "id": "58bf35b9",
   "metadata": {},
   "source": [
    "# Hello world"
   ]
  },
  {
   "cell_type": "code",
   "execution_count": null,
   "id": "ae300b48",
   "metadata": {},
   "outputs": [],
   "source": [
    "import matplotlib.pyplot as plt\n",
    "import numpy as np\n",
    "\n",
    "x = np.linspace(0, 5, 10)\n",
    "y = x**2\n",
    "plt.plot(x, y)"
   ]
  },
  {
   "cell_type": "markdown",
   "id": "40766825",
   "metadata": {},
   "source": [
    "# A simple plot"
   ]
  },
  {
   "cell_type": "code",
   "execution_count": null,
   "id": "c778093f",
   "metadata": {},
   "outputs": [],
   "source": [
    "plt.figure()\n",
    "plt.plot(x, y, \"b-\")\n",
    "plt.xlabel(\"x\")\n",
    "plt.ylabel(\"y\")\n",
    "plt.title(\"Plot of y = 2^x\")"
   ]
  },
  {
   "cell_type": "markdown",
   "id": "aa2c14ea",
   "metadata": {},
   "source": [
    "# Object-oriented API"
   ]
  },
  {
   "cell_type": "code",
   "execution_count": null,
   "id": "970c7636",
   "metadata": {},
   "outputs": [],
   "source": [
    "fig = plt.figure()\n",
    "axes = fig.add_axes([0.1, 0.1, 0.9, 0.9])\n",
    "axes.plot(x, y, \"r-\")\n",
    "axes.set_xlabel(\"x\")\n",
    "axes.set_ylabel(\"y\")\n",
    "axes.set_title(\"y = 2^x\")"
   ]
  },
  {
   "cell_type": "markdown",
   "id": "3b66c16a",
   "metadata": {},
   "source": [
    "# Multiple axes in a figure"
   ]
  },
  {
   "cell_type": "code",
   "execution_count": null,
   "id": "b9e8a468",
   "metadata": {},
   "outputs": [],
   "source": [
    "fig = plt.figure()\n",
    "axes1 = fig.add_axes([0.1, 0.1, 0.8, 0.8])\n",
    "axes1.plot(x, y, \"r-\")\n",
    "axes2 = fig.add_axes([0.2, 0.5, 0.2, 0.2])\n",
    "axes2.plot(x, -y, \"g-\")"
   ]
  },
  {
   "cell_type": "markdown",
   "id": "bd8655cb",
   "metadata": {},
   "source": [
    "# Using the subplot layout manager"
   ]
  },
  {
   "cell_type": "code",
   "execution_count": null,
   "id": "f88bffc0",
   "metadata": {},
   "outputs": [],
   "source": [
    "fig, axes = plt.subplots(nrows=2, ncols=2)\n",
    "axes[0, 0].plot(y, x)\n",
    "axes[1, 0].plot(y, x**x)\n",
    "axes[1, 1].plot(y, x**2 - x)\n",
    "fig.tight_layout()  # adjusts spacing to avoid plots overlapping labels"
   ]
  },
  {
   "cell_type": "code",
   "execution_count": null,
   "id": "1c45a506",
   "metadata": {},
   "outputs": [],
   "source": [
    "fig, axes = plt.subplots(nrows=2, ncols=3)\n",
    "for ax in axes.reshape(-1):  # axes is returned a 2x4 numpy array; reshape into a vector\n",
    "    ax.plot(x, y, \"r\")\n",
    "    ax.set_ylabel(\"y axis\")\n",
    "    ax.set_xlabel(\"x axis\")\n",
    "fig.tight_layout()  # adjusts spacing to avoid plots overlapping labels"
   ]
  },
  {
   "cell_type": "markdown",
   "id": "78c2c007",
   "metadata": {},
   "source": [
    "# Setting the figure size"
   ]
  },
  {
   "cell_type": "code",
   "execution_count": null,
   "id": "d5777904",
   "metadata": {},
   "outputs": [],
   "source": [
    "fig, axes = plt.subplots(nrows=6, ncols=6)\n",
    "fig.set_size_inches((12, 12))  # defaults to 8 by 6\n",
    "fig.set_dpi(120)  # defaults to 80\n",
    "for ax in axes.reshape(-1):\n",
    "    ax.plot(x, y, \"r\")\n",
    "    ax.set_ylabel(\"y axis\")\n",
    "    ax.set_xlabel(\"x axis\")\n",
    "fig.tight_layout()"
   ]
  },
  {
   "cell_type": "markdown",
   "id": "ba03bb06",
   "metadata": {},
   "source": [
    "# Writing to file\n",
    "Many formats available."
   ]
  },
  {
   "cell_type": "code",
   "execution_count": null,
   "id": "357eaead",
   "metadata": {},
   "outputs": [],
   "source": [
    "fig.savefig(\"myplot.png\")"
   ]
  },
  {
   "cell_type": "code",
   "execution_count": null,
   "id": "b5623837",
   "metadata": {},
   "outputs": [],
   "source": [
    "fig.savefig(\"myplot.pdf\", dpi=200)  # setting 'dots per inch'"
   ]
  },
  {
   "cell_type": "markdown",
   "id": "4f99a00d",
   "metadata": {},
   "source": [
    "# Adding a legend"
   ]
  },
  {
   "cell_type": "code",
   "execution_count": null,
   "id": "b88b2e3f",
   "metadata": {},
   "outputs": [],
   "source": [
    "fig, ax = plt.subplots()  # by default returns a single axis\n",
    "ax.plot(x, x * 2, label=\"x*2\")\n",
    "ax.plot(x, x * x, label=\"x^2\")\n",
    "ax.plot(x, 2**x, label=\"2^x\")\n",
    "ax.legend(loc=0)  # 1=UR, 2=UL, 3=LL, 4=LR, 0=matplotlib decides"
   ]
  },
  {
   "cell_type": "markdown",
   "id": "7ac3d235",
   "metadata": {},
   "source": [
    "Note, Matplotlib has chosen the line colours."
   ]
  },
  {
   "cell_type": "markdown",
   "id": "e88fe4aa",
   "metadata": {},
   "source": [
    "# Colors, linestyles"
   ]
  },
  {
   "cell_type": "code",
   "execution_count": null,
   "id": "337385b1",
   "metadata": {},
   "outputs": [],
   "source": [
    "fig, ax = plt.subplots()\n",
    "ax.plot(x, y, color=\"purple\", linewidth=2, linestyle=\"-\", marker=\"o\", markersize=8)\n",
    "ax.plot(x, y * 2, lw=2, ls=\"-\", marker=\"o\", c=\"red\", ms=8)\n",
    "ax.plot(x, y * 3, lw=2, ls=\"-.\", marker=\"s\", ms=10, mfc=\"red\", mec=\"blue\", mew=2)\n",
    "ax.plot(x, y * 4, lw=2, ls=\":\", marker=\"o\", c=\"#ff9915\", ms=8)"
   ]
  },
  {
   "cell_type": "markdown",
   "id": "68a48fd2",
   "metadata": {},
   "source": [
    "marker symbols can be '+', 's', '*', 'o' and many others"
   ]
  },
  {
   "cell_type": "markdown",
   "id": "4efa50bc",
   "metadata": {},
   "source": [
    "# Controlling the axes"
   ]
  },
  {
   "cell_type": "code",
   "execution_count": null,
   "id": "9a980de9",
   "metadata": {},
   "outputs": [],
   "source": [
    "fig, ax = plt.subplots()\n",
    "ax.plot(x, 2**x)\n",
    "ax.set_xlim([1, 4])\n",
    "ax.set_ylim([2, 16])\n",
    "ax.set_yscale(\"linear\")  # can be 'linear' or 'log'\n",
    "ax.set_yticks([2, 4, 8, 16])\n",
    "ax.set_xticks([1, 2, 3, 4])\n",
    "ax.set_xticklabels([\"one\", \"two\", \"three\", \"four\"], fontsize=12)\n",
    "ax.grid(color=\"red\", linewidth=2, linestyle=\"dashed\")"
   ]
  },
  {
   "cell_type": "markdown",
   "id": "5c785af6",
   "metadata": {},
   "source": [
    "# Repositioning the spines"
   ]
  },
  {
   "cell_type": "code",
   "execution_count": null,
   "id": "4d70d4cf",
   "metadata": {},
   "outputs": [],
   "source": [
    "x = np.linspace(-5, 5, 50)\n",
    "fig, ax = plt.subplots()\n",
    "ax.plot(x, x**3)\n",
    "ax.plot(x, x**2 * 5)\n",
    "ax.spines[\"left\"].set_position((\"data\", 0))\n",
    "ax.spines[\"bottom\"].set_position((\"data\", 0))\n",
    "ax.spines[\"top\"].set_color(\"none\")\n",
    "ax.spines[\"right\"].set_color(\"none\")\n",
    "ax.axis(\"tight\")"
   ]
  },
  {
   "cell_type": "markdown",
   "id": "630cac6f",
   "metadata": {},
   "source": [
    "# Adding text"
   ]
  },
  {
   "cell_type": "code",
   "execution_count": null,
   "id": "66c1a774",
   "metadata": {},
   "outputs": [],
   "source": [
    "x = np.linspace(-5, 5, 10)\n",
    "fig, ax = plt.subplots()\n",
    "ax.plot(x, x * 2 + 1)\n",
    "ax.axis(\"tight\")\n",
    "ax.text(0, -2, \"The line is blue\", fontsize=16)\n",
    "ax.text(-2, 5, \"$y=2x+1$\", fontsize=16)"
   ]
  },
  {
   "cell_type": "markdown",
   "id": "ded5bb81",
   "metadata": {},
   "source": [
    "# Other plot types\n"
   ]
  },
  {
   "cell_type": "code",
   "execution_count": null,
   "id": "3f70066b",
   "metadata": {},
   "outputs": [],
   "source": [
    "fig, ax = plt.subplots(nrows=1, ncols=2)\n",
    "\n",
    "# Shade the region between two curves\n",
    "x = np.linspace(-5, 5, 50)\n",
    "ax[0].fill_between(x, 0, x**2 * 2, color=\"purple\")\n",
    "ax[0].axis(\"tight\")\n",
    "\n",
    "# Draw a bar chart (i.e. histogram)\n",
    "y = np.linspace(-5, 5, 10)\n",
    "ax[1].bar(y, y**2, color=\"green\")"
   ]
  },
  {
   "cell_type": "markdown",
   "id": "f771d37a",
   "metadata": {},
   "source": [
    "# Plotting data - histograms"
   ]
  },
  {
   "cell_type": "code",
   "execution_count": null,
   "id": "e5e658e6",
   "metadata": {},
   "outputs": [],
   "source": [
    "x = np.random.randn(100000)\n",
    "fig, ax = plt.subplots(nrows=1, ncols=2)\n",
    "ax[0].hist(x, bins=100)\n",
    "ax[0].set_title(\"a normal distribution\")\n",
    "ax[1].hist(x, cumulative=True, bins=20)\n",
    "ax[1].set_title(\"cumulative distribution\")\n",
    "fig.tight_layout()"
   ]
  },
  {
   "cell_type": "markdown",
   "id": "99415f6e",
   "metadata": {},
   "source": [
    "# Plotting data - scatter plots"
   ]
  },
  {
   "cell_type": "code",
   "execution_count": null,
   "id": "c7650d14",
   "metadata": {},
   "outputs": [],
   "source": [
    "x = np.random.randn(1000)\n",
    "y = 15 * x + 10 * np.random.randn(1000)\n",
    "fig, ax = plt.subplots()\n",
    "ax.scatter(x, y)"
   ]
  },
  {
   "cell_type": "markdown",
   "id": "d8abbb1e",
   "metadata": {},
   "source": [
    "# Subplots\n",
    "For more flexible layouts we can use `subplot2grid`"
   ]
  },
  {
   "cell_type": "code",
   "execution_count": null,
   "id": "7d90de1c",
   "metadata": {},
   "outputs": [],
   "source": [
    "fig = plt.figure()\n",
    "fig.set_size_inches((8, 4))\n",
    "# subplot2grid((nrows, ncols), (row_pos, col_pos))\n",
    "ax1 = plt.subplot2grid((3, 4), (0, 0), colspan=2, rowspan=2)\n",
    "ax2 = plt.subplot2grid((3, 4), (0, 2), colspan=2, rowspan=1)\n",
    "ax3 = plt.subplot2grid((3, 4), (1, 2), colspan=2, rowspan=1)\n",
    "ax4 = plt.subplot2grid((3, 4), (2, 0), colspan=3, rowspan=1)\n",
    "ax5 = plt.subplot2grid((3, 4), (2, 3), colspan=1, rowspan=1)\n",
    "fig.tight_layout()"
   ]
  },
  {
   "cell_type": "markdown",
   "id": "92405f10",
   "metadata": {},
   "source": [
    "# 3D plots\n",
    "For example, plot 'z = cos(x) + sin(y)' as an intensity map"
   ]
  },
  {
   "cell_type": "code",
   "execution_count": null,
   "id": "6d77b5a0",
   "metadata": {},
   "outputs": [],
   "source": [
    "axis = np.linspace(-5, 5, 100)\n",
    "(X, Y) = np.meshgrid(\n",
    "    axis, axis\n",
    ")  # outputs matrices X and Y storing grid of pixel coordinates\n",
    "Z = np.cos(X) + np.sin(Y)  # perform some operation on the coordinate values\n",
    "fig, ax = plt.subplots()\n",
    "ax.imshow(Z, extent=[-5, 5, -5, 5])  # 'extent' used to set axes labels correctly"
   ]
  },
  {
   "cell_type": "markdown",
   "id": "144c19e9",
   "metadata": {},
   "source": [
    "# Changing the colormap"
   ]
  },
  {
   "cell_type": "code",
   "execution_count": null,
   "id": "f42e23c2",
   "metadata": {},
   "outputs": [],
   "source": [
    "fig, ax = plt.subplots(nrows=1, ncols=3)\n",
    "ax[0].imshow(Z, cmap=plt.cm.RdBu, extent=[-5, 5, -5, 5])\n",
    "ax[1].imshow(Z, cmap=plt.cm.hot, extent=[-5, 5, -5, 5])\n",
    "ax[2].imshow(Z, cmap=plt.cm.gray, extent=[-5, 5, -5, 5])  # Note US spelling of 'grey'"
   ]
  },
  {
   "cell_type": "code",
   "execution_count": null,
   "id": "2a177fad",
   "metadata": {},
   "outputs": [],
   "source": [
    "dir(plt.cm)  # see the full list of predefined colour maps"
   ]
  },
  {
   "cell_type": "markdown",
   "id": "0e8f80da",
   "metadata": {},
   "source": [
    "# Generating a contour plot"
   ]
  },
  {
   "cell_type": "code",
   "execution_count": null,
   "id": "6b258c60",
   "metadata": {},
   "outputs": [],
   "source": [
    "fig, ax = plt.subplots()\n",
    "levels = np.linspace(-2, 2, 30)\n",
    "im = ax.contour(Z, cmap=plt.cm.RdBu, extent=[-5, 5, -5, 5], levels=levels)\n",
    "fig.colorbar(im, ax=ax)\n",
    "fig.savefig(\"myplot.pdf\")"
   ]
  },
  {
   "cell_type": "markdown",
   "id": "a2486119",
   "metadata": {},
   "source": [
    "# 3D figures"
   ]
  },
  {
   "cell_type": "code",
   "execution_count": null,
   "id": "7d578d0f",
   "metadata": {},
   "outputs": [],
   "source": [
    "from mpl_toolkits.mplot3d.axes3d import Axes3D\n",
    "\n",
    "fig = plt.figure(figsize=(8, 4))\n",
    "ax1 = fig.add_subplot(1, 2, 1, projection=\"3d\")  # generate an Axes3D\n",
    "im = ax1.plot_surface(X, Y, Z, cmap=plt.cm.gray)\n",
    "ax2 = fig.add_subplot(1, 2, 2, projection=\"3d\")  # generate an Axes3D\n",
    "im = ax2.plot_wireframe(X, Y, Z, rstride=4, cstride=4)"
   ]
  },
  {
   "cell_type": "code",
   "execution_count": null,
   "id": "dc44aabd",
   "metadata": {},
   "outputs": [],
   "source": [
    "# help(Axes3D)"
   ]
  },
  {
   "cell_type": "markdown",
   "id": "b164623d",
   "metadata": {},
   "source": [
    "# Projections"
   ]
  },
  {
   "cell_type": "code",
   "execution_count": null,
   "id": "6c156dfe",
   "metadata": {},
   "outputs": [],
   "source": [
    "from mpl_toolkits.mplot3d.axes3d import Axes3D\n",
    "\n",
    "fig = plt.figure(figsize=(14, 6))\n",
    "ax = fig.add_subplot(1, 2, 1, projection=\"3d\")  # generate an Axes3D\n",
    "ax.plot_surface(X, Y, Z, cmap=plt.cm.gray)\n",
    "ax.contour(X, Y, Z, zdir=\"z\", offset=-3)\n",
    "ax.contour(X, Y, Z, zdir=\"x\", offset=-8)\n",
    "ax.contour(X, Y, Z, zdir=\"y\", offset=+8)\n",
    "ax.set_xlim3d(-8, 5)\n",
    "ax.set_ylim3d(-5, 8)\n",
    "ax.set_zlim3d(-3, 2)"
   ]
  },
  {
   "cell_type": "markdown",
   "id": "ead4a718",
   "metadata": {},
   "source": [
    "# Generating Animations\n",
    "\n",
    "You may need to install the ffmpeg library through conda for this section using `conda install -c conda-forge ffmpeg`. Otherwise try setting the output to .gif instead."
   ]
  },
  {
   "cell_type": "code",
   "execution_count": null,
   "id": "9b049847",
   "metadata": {},
   "outputs": [],
   "source": [
    "from matplotlib import animation\n",
    "\n",
    "fig, ax = plt.subplots()\n",
    "\n",
    "\n",
    "def update(frame_counter):\n",
    "    plt.cla()\n",
    "    x = np.linspace(-5, 5, 100)\n",
    "    y = np.sin(x * (1.0 + frame_counter / 10.0)) + np.sin(x)\n",
    "    ax.plot(x, y)\n",
    "\n",
    "\n",
    "anim = animation.FuncAnimation(fig, update, frames=200)\n",
    "anim.save(\"animation.mp4\", fps=20)"
   ]
  },
  {
   "cell_type": "markdown",
   "id": "78673b79",
   "metadata": {},
   "source": [
    "# Viewing the animation"
   ]
  },
  {
   "cell_type": "code",
   "execution_count": null,
   "id": "eb7d53bf",
   "metadata": {},
   "outputs": [],
   "source": [
    "import base64\n",
    "\n",
    "from IPython.display import HTML\n",
    "\n",
    "video = open(\"animation.mp4\", \"rb\").read()\n",
    "encoded = base64.b64encode(video)\n",
    "HTML(\n",
    "    data=\"\"\"<video alt=\"test\" controls>\n",
    "             <source src=\"data:video/mp4;base64,{0}\" type=\"video/mp4\" />\n",
    "             </video>\"\"\".format(\n",
    "        encoded.decode(\"ascii\")\n",
    "    )\n",
    ")"
   ]
  },
  {
   "cell_type": "markdown",
   "id": "e5b1c40d",
   "metadata": {},
   "source": [
    "# Summary\n",
    "\n",
    "* We have seen examples of some of the most common plot types\n",
    "* We have seen how plots can be built using an object-based API\n",
    "* Many, many features have not been covered, but the library is very well documented...\n",
    "* For documentation and further examples see [http://matplotlib.org](http://matplotlib.org)"
   ]
  }
 ],
 "metadata": {
  "jupytext": {
   "cell_metadata_json": true,
   "formats": "ipynb,py:percent"
  },
  "kernelspec": {
   "display_name": "Python 3.10.7 ('env')",
   "language": "python",
   "name": "python3"
  },
  "language_info": {
   "codemirror_mode": {
    "name": "ipython",
    "version": 3
   },
   "file_extension": ".py",
   "mimetype": "text/x-python",
   "name": "python",
   "nbconvert_exporter": "python",
   "pygments_lexer": "ipython3",
   "version": "3.11.6"
  }
 },
 "nbformat": 4,
 "nbformat_minor": 5
}
