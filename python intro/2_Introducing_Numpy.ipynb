{
 "cells": [
  {
   "cell_type": "markdown",
   "id": "1cf71e7e",
   "metadata": {},
   "source": [
    "# Tutorial 2: Introducing NumPy\n",
    "\n",
    "> COM2004/COM3004\n"
   ]
  },
  {
   "cell_type": "markdown",
   "id": "80b5137e",
   "metadata": {},
   "source": [
    "*Copyright &copy; 2022 University of Sheffield. All rights reserved*."
   ]
  },
  {
   "cell_type": "markdown",
   "id": "fb050020",
   "metadata": {},
   "source": [
    "## What is NumPy?\n",
    "\n",
    "NumPy is a core Python package for scientific computing\n",
    "\n",
    "* provides a powerful N-dimensional array object\n",
    "* highly optimised linear algebra tools\n",
    "* tight integration with C/C++ and Fortran code\n",
    "* licensed under a BSD license, i.e., freely reusable"
   ]
  },
  {
   "cell_type": "markdown",
   "id": "2e357823",
   "metadata": {},
   "source": [
    "## Importing NumPy\n",
    "\n",
    "Conventionally imported using,"
   ]
  },
  {
   "cell_type": "code",
   "execution_count": null,
   "id": "a066f5e8",
   "metadata": {},
   "outputs": [],
   "source": [
    "import numpy as np"
   ]
  },
  {
   "cell_type": "markdown",
   "id": "595055ab",
   "metadata": {},
   "source": [
    "The Python keyword 'as' here allows us to use 'np' as a shorthand to refer to the 'numpy' module"
   ]
  },
  {
   "cell_type": "markdown",
   "id": "bd44fc38",
   "metadata": {},
   "source": [
    "## Generating a NumPy ndarray\n",
    "\n",
    "`numpy.ndarray` is a type for representing N-Dimensional arrays.\n",
    "\n",
    "Arrays can be generated either,\n",
    "\n",
    "* from Python lists containing numeric data\n",
    "* using NumPy array generating functions\n",
    "* reading data from a file"
   ]
  },
  {
   "cell_type": "markdown",
   "id": "c80f1b54",
   "metadata": {},
   "source": [
    "## Generating arrays from lists"
   ]
  },
  {
   "cell_type": "code",
   "execution_count": null,
   "id": "b6fc7a0f",
   "metadata": {},
   "outputs": [],
   "source": [
    "my_list = [1, 2, 3, 4, 5]\n",
    "my_array = np.array(my_list)  # create a simple 1-D array\n",
    "print(my_list)\n",
    "print(my_array)\n",
    "print(type(my_list))\n",
    "type(my_array)"
   ]
  },
  {
   "cell_type": "code",
   "execution_count": null,
   "id": "f3b8cccb",
   "metadata": {},
   "outputs": [],
   "source": [
    "my_2d_array = np.array([[1., 2, 3], [4, 5, 6], [7, 8, 9]])\n",
    "print(my_2d_array)\n",
    "type(my_2d_array)"
   ]
  },
  {
   "cell_type": "markdown",
   "id": "a8181761",
   "metadata": {},
   "source": [
    "## The ndarray object's properties\n",
    "\n",
    "The `ndarray` has various properties that we can access,"
   ]
  },
  {
   "cell_type": "code",
   "execution_count": null,
   "id": "af1aa3bd",
   "metadata": {},
   "outputs": [],
   "source": [
    "my_2d_array.shape"
   ]
  },
  {
   "cell_type": "code",
   "execution_count": null,
   "id": "42ceaa6d",
   "metadata": {},
   "outputs": [],
   "source": [
    "my_2d_array.size"
   ]
  },
  {
   "cell_type": "code",
   "execution_count": null,
   "id": "8504a2ec",
   "metadata": {},
   "outputs": [],
   "source": [
    "my_2d_array.dtype"
   ]
  },
  {
   "cell_type": "markdown",
   "id": "4d5ddafe",
   "metadata": {},
   "source": [
    "## N-dimensional arrays\n",
    "\n",
    "Note, NumPy generalises arrays to be N-dimensional."
   ]
  },
  {
   "cell_type": "code",
   "execution_count": null,
   "id": "942e7b1f",
   "metadata": {},
   "outputs": [],
   "source": [
    "x2 = np.array([[1, 2], [3, 4]])  # a matrix\n",
    "x3 = np.array([x2, x2, x2, x2])  # stacking two matrices\n",
    "x3.shape"
   ]
  },
  {
   "cell_type": "code",
   "execution_count": null,
   "id": "ddb3781b",
   "metadata": {},
   "outputs": [],
   "source": [
    "x4 = np.array([x3, x3, x3, x3, x3])  # stacking 5 3-D structures\n",
    "x4.shape"
   ]
  },
  {
   "cell_type": "code",
   "execution_count": null,
   "id": "18e7a917",
   "metadata": {},
   "outputs": [],
   "source": [
    "x5 = np.array([x4, x4])  # stacking 2 4-D structures!\n",
    "x5.shape"
   ]
  },
  {
   "cell_type": "markdown",
   "id": "56d72f8e",
   "metadata": {},
   "source": [
    "But in COM2004/3004 we will only be using N=1 (vectors) and N=2 (matrices)."
   ]
  },
  {
   "cell_type": "markdown",
   "id": "076826e3",
   "metadata": {},
   "source": [
    "## Array generating functions"
   ]
  },
  {
   "cell_type": "code",
   "execution_count": null,
   "id": "6f0fedc3",
   "metadata": {},
   "outputs": [],
   "source": [
    "np.arange(10)"
   ]
  },
  {
   "cell_type": "code",
   "execution_count": null,
   "id": "db51346e",
   "metadata": {},
   "outputs": [],
   "source": [
    "np.arange(100, 110, 2)  # start, stop, step"
   ]
  },
  {
   "cell_type": "code",
   "execution_count": null,
   "id": "314c10b3",
   "metadata": {},
   "outputs": [],
   "source": [
    "np.linspace(10, 20, 5)  # start, stop, n-points"
   ]
  },
  {
   "cell_type": "code",
   "execution_count": null,
   "id": "ea2acc88",
   "metadata": {},
   "outputs": [],
   "source": [
    "np.zeros( (3, 3, 3) )  # Note, argument is a tuple"
   ]
  },
  {
   "cell_type": "code",
   "execution_count": null,
   "id": "65f2be18",
   "metadata": {},
   "outputs": [],
   "source": [
    "np.ones((2, 5))"
   ]
  },
  {
   "cell_type": "markdown",
   "id": "67e651cb",
   "metadata": {},
   "source": [
    "## More array generating functions"
   ]
  },
  {
   "cell_type": "code",
   "execution_count": null,
   "id": "47c5ac19",
   "metadata": {},
   "outputs": [],
   "source": [
    "np.diag((4, 5, 3))"
   ]
  },
  {
   "cell_type": "code",
   "execution_count": null,
   "id": "11765050",
   "metadata": {},
   "outputs": [],
   "source": [
    "np.diag((2, 2), k=3)"
   ]
  },
  {
   "cell_type": "code",
   "execution_count": null,
   "id": "f75ce7bf",
   "metadata": {},
   "outputs": [],
   "source": [
    "np.diag((1, 1, 1)) + np.diag((2, 2), k=1) + np.diag((2, 2), k=-1)"
   ]
  },
  {
   "cell_type": "code",
   "execution_count": null,
   "id": "c6dacf56",
   "metadata": {},
   "outputs": [],
   "source": [
    "np.eye(10)"
   ]
  },
  {
   "cell_type": "markdown",
   "id": "95d78ea2",
   "metadata": {},
   "source": [
    "## Arrays initialised with random numbers"
   ]
  },
  {
   "cell_type": "code",
   "execution_count": null,
   "id": "30ed6674",
   "metadata": {},
   "outputs": [],
   "source": [
    "np.random.rand(2, 4)  # uniform distribution between 0 and 1"
   ]
  },
  {
   "cell_type": "code",
   "execution_count": null,
   "id": "de188168",
   "metadata": {},
   "outputs": [],
   "source": [
    "np.random.randn(2, 4)  # standard normal distribution"
   ]
  },
  {
   "cell_type": "markdown",
   "id": "40b335d3",
   "metadata": {},
   "source": [
    "## Reading arrays from files\n",
    "\n",
    "* `genfromtxt` and `savetxt` for reading and writing to text files.\n",
    "* `load` and `save` for reading and writing in NumPy's native format."
   ]
  },
  {
   "cell_type": "code",
   "execution_count": null,
   "id": "21ff3d09",
   "metadata": {},
   "outputs": [],
   "source": [
    "%more data/liver_data_20.txt"
   ]
  },
  {
   "cell_type": "code",
   "execution_count": null,
   "id": "7b5a4dab",
   "metadata": {},
   "outputs": [],
   "source": [
    "x = np.genfromtxt(\"data/liver_data_20.txt\", delimiter=\",\")  # for reading a csv file\n",
    "#x = np.loadtxt(\"data/liver_data_20.txt\", delimiter=\",\", dtype=float)\n",
    "print(x)"
   ]
  },
  {
   "cell_type": "code",
   "execution_count": null,
   "id": "a0e6bb17",
   "metadata": {},
   "outputs": [],
   "source": [
    "np.savetxt(\"data/matrix.csv\", x, delimiter=\"_\", fmt=\"%.5f\")"
   ]
  },
  {
   "cell_type": "code",
   "execution_count": null,
   "id": "cfeef573",
   "metadata": {},
   "outputs": [],
   "source": [
    "%more data/matrix.csv"
   ]
  },
  {
   "cell_type": "markdown",
   "id": "f786c968",
   "metadata": {},
   "source": [
    "## Array manipulation\n",
    "\n",
    "indexing is similar to Python lists"
   ]
  },
  {
   "cell_type": "code",
   "execution_count": null,
   "id": "dd9ee60c",
   "metadata": {},
   "outputs": [],
   "source": [
    "x = np.array([1, 2, 3, 4, 5, 6, 7])\n",
    "print(x[0])\n",
    "print(x[2:5])\n",
    "print(x[:4])\n",
    "print(x[4:])"
   ]
  },
  {
   "cell_type": "markdown",
   "id": "d1a49b4e",
   "metadata": {},
   "source": [
    "But it is generalised to n-dimensions"
   ]
  },
  {
   "cell_type": "code",
   "execution_count": null,
   "id": "74da3972",
   "metadata": {},
   "outputs": [],
   "source": [
    "x = np.random.rand(5, 5)\n",
    "print(x[2:4, :2])"
   ]
  },
  {
   "cell_type": "markdown",
   "id": "d24ea39f",
   "metadata": {},
   "source": [
    "## Extracting a row or column vector from a matrix"
   ]
  },
  {
   "cell_type": "code",
   "execution_count": null,
   "id": "4adb0270",
   "metadata": {},
   "outputs": [],
   "source": [
    "A = np.genfromtxt(\"data/test_matrix.txt\")\n",
    "print(A)"
   ]
  },
  {
   "cell_type": "code",
   "execution_count": null,
   "id": "6872ab4d",
   "metadata": {},
   "outputs": [],
   "source": [
    "print(A[2, 1:4])  # extract row 2  (can also write as A[2])\n",
    "print(A[2, 1:4].shape)"
   ]
  },
  {
   "cell_type": "code",
   "execution_count": null,
   "id": "edb32933",
   "metadata": {},
   "outputs": [],
   "source": [
    "print(A[:, 2])  # extract column 2\n",
    "print(A[:, 2].shape)"
   ]
  },
  {
   "cell_type": "markdown",
   "id": "036d5f4f",
   "metadata": {},
   "source": [
    "## Data processing\n",
    "\n",
    "The NumPy ndarray object has many methods.\n",
    "\n",
    "e.g., `min`, `max`, `sum`, `product`, `mean`"
   ]
  },
  {
   "cell_type": "code",
   "execution_count": null,
   "id": "e3b6aa18",
   "metadata": {},
   "outputs": [],
   "source": [
    "x = np.array([1, 2, 3, 4, 5, 6])"
   ]
  },
  {
   "cell_type": "code",
   "execution_count": null,
   "id": "e5da81aa",
   "metadata": {},
   "outputs": [],
   "source": [
    "x.min(), x.max()"
   ]
  },
  {
   "cell_type": "code",
   "execution_count": null,
   "id": "99619ae7",
   "metadata": {},
   "outputs": [],
   "source": [
    "x.sum(), x.prod()"
   ]
  },
  {
   "cell_type": "code",
   "execution_count": null,
   "id": "1a2d7dec",
   "metadata": {},
   "outputs": [],
   "source": [
    "x.mean(), x.var()"
   ]
  },
  {
   "cell_type": "markdown",
   "id": "8504d923",
   "metadata": {},
   "source": [
    "## Data processing on matrices"
   ]
  },
  {
   "cell_type": "code",
   "execution_count": null,
   "id": "b5d1ac45",
   "metadata": {},
   "outputs": [],
   "source": [
    "A = np.genfromtxt(\"data/test_matrix.txt\")\n",
    "print(A)"
   ]
  },
  {
   "cell_type": "code",
   "execution_count": null,
   "id": "67dc852a",
   "metadata": {},
   "outputs": [],
   "source": [
    "A.min(), A.max()"
   ]
  },
  {
   "cell_type": "code",
   "execution_count": null,
   "id": "906025b1",
   "metadata": {},
   "outputs": [],
   "source": [
    "A.mean(axis=0).shape  #, A.sum(), A.shape"
   ]
  },
  {
   "cell_type": "markdown",
   "id": "570d98cd",
   "metadata": {},
   "source": [
    "## Reshaping and resizing\n",
    "\n",
    "It's sometimes necessary to wrap a vector into a matrix or unwrap a matrix into a vector"
   ]
  },
  {
   "cell_type": "code",
   "execution_count": null,
   "id": "face7efa",
   "metadata": {},
   "outputs": [],
   "source": [
    "M = np.array([1, 2, 3, 4, 5, 6, 7, 8, 9]).reshape(3, 3)\n",
    "print(M)"
   ]
  },
  {
   "cell_type": "code",
   "execution_count": null,
   "id": "ac483e3a",
   "metadata": {},
   "outputs": [],
   "source": [
    "v = M.reshape(9)\n",
    "print(v)"
   ]
  },
  {
   "cell_type": "code",
   "execution_count": null,
   "id": "5e0acff8",
   "metadata": {},
   "outputs": [],
   "source": [
    "# The following line will generate an error\n",
    "# because reshape cannot change the number of elements\n",
    "\n",
    "#  v = M.reshape(8)"
   ]
  },
  {
   "cell_type": "markdown",
   "id": "5c892075",
   "metadata": {},
   "source": [
    "## Adding a new dimension\n",
    "\n",
    "Can easily turn 1-D vectors in 2-D matrices"
   ]
  },
  {
   "cell_type": "code",
   "execution_count": null,
   "id": "0e015afa",
   "metadata": {},
   "outputs": [],
   "source": [
    "v = np.array([1, 2, 3, 4, 5])\n",
    "print(v)\n",
    "print(v.shape)"
   ]
  },
  {
   "cell_type": "code",
   "execution_count": null,
   "id": "f194ba76",
   "metadata": {},
   "outputs": [],
   "source": [
    "v_row = v[np.newaxis, :]  # turn a vector into a 1-row matrix\n",
    "print(v_row)\n",
    "print(v_row.shape)"
   ]
  },
  {
   "cell_type": "code",
   "execution_count": null,
   "id": "f563b5a6",
   "metadata": {},
   "outputs": [],
   "source": [
    "v_col = v[:, np.newaxis]  # turn a vector into a 1-column matrix\n",
    "print(v_col)\n",
    "print(v_col.shape)"
   ]
  },
  {
   "cell_type": "markdown",
   "id": "bf41b96e",
   "metadata": {},
   "source": [
    "## Stacking arrays\n",
    "\n",
    "Arrays with compatible dimensions can be joined horizontally or vertically"
   ]
  },
  {
   "cell_type": "code",
   "execution_count": null,
   "id": "398bde28",
   "metadata": {},
   "outputs": [],
   "source": [
    "x = np.ones((2, 3))\n",
    "y = np.zeros((2, 2))\n",
    "z = np.hstack((x, y, x))  # note, arrays passed as a tuple\n",
    "print(x)\n",
    "print(y)\n",
    "print(z)\n",
    "print(z.shape)"
   ]
  },
  {
   "cell_type": "code",
   "execution_count": null,
   "id": "a31c289a",
   "metadata": {},
   "outputs": [],
   "source": [
    "x = np.ones((2, 2))\n",
    "y = np.zeros((1, 2))\n",
    "z = np.vstack((x, y))\n",
    "print(z)\n",
    "print(z.shape)"
   ]
  },
  {
   "cell_type": "markdown",
   "id": "2e5bc7c9",
   "metadata": {},
   "source": [
    "## Tiling and repeating"
   ]
  },
  {
   "cell_type": "code",
   "execution_count": null,
   "id": "e2dabd40",
   "metadata": {},
   "outputs": [],
   "source": [
    "x = np.array([[1, 2], [3, 4]])\n",
    "np.tile(x, 3)"
   ]
  },
  {
   "cell_type": "code",
   "execution_count": null,
   "id": "74c19674",
   "metadata": {},
   "outputs": [],
   "source": [
    "np.tile(x, (2, 4))"
   ]
  },
  {
   "cell_type": "code",
   "execution_count": null,
   "id": "bc6f66ae",
   "metadata": {},
   "outputs": [],
   "source": [
    "np.repeat(x, 4)"
   ]
  },
  {
   "cell_type": "code",
   "execution_count": null,
   "id": "c289f8da",
   "metadata": {},
   "outputs": [],
   "source": [
    "np.repeat(x, 4, axis=0)"
   ]
  },
  {
   "cell_type": "markdown",
   "id": "df10adc0",
   "metadata": {},
   "source": [
    "## Copying\n",
    "\n",
    "Arrays are handled by reference.\n",
    "\n",
    "When you do `A = B` you are just copying a reference, not the data itself."
   ]
  },
  {
   "cell_type": "code",
   "execution_count": null,
   "id": "00ea9962",
   "metadata": {},
   "outputs": [],
   "source": [
    "A = np.array([1, 2, 3, 4, 5, 6])\n",
    "B = A\n",
    "B[0] = 10\n",
    "print(A)"
   ]
  },
  {
   "cell_type": "markdown",
   "id": "c5d58985",
   "metadata": {},
   "source": [
    "Note, this is also true for Python lists and objects in general"
   ]
  },
  {
   "cell_type": "code",
   "execution_count": null,
   "id": "797daa9b",
   "metadata": {},
   "outputs": [],
   "source": [
    "A = [1, 2, 3, 4]\n",
    "B = A\n",
    "B[0] = 10\n",
    "print(A)"
   ]
  },
  {
   "cell_type": "markdown",
   "id": "e607ba4f",
   "metadata": {},
   "source": [
    "So how do we make a real copy?"
   ]
  },
  {
   "cell_type": "markdown",
   "id": "8162685e",
   "metadata": {},
   "source": [
    "## Deep Copy\n",
    "\n",
    "To actually copy the data stored in the array we use the NumPy copy method,"
   ]
  },
  {
   "cell_type": "code",
   "execution_count": null,
   "id": "d6ece685",
   "metadata": {},
   "outputs": [],
   "source": [
    "A = np.array([1, 2, 3, 4])\n",
    "B = A.copy()  # can also write, B = np.copy(A)\n",
    "B[0] = 10\n",
    "print(A)"
   ]
  },
  {
   "cell_type": "markdown",
   "id": "9428521b",
   "metadata": {},
   "source": [
    "Note, to copy Python *lists*, we first need to import the copy module,\n",
    "\n"
   ]
  },
  {
   "cell_type": "code",
   "execution_count": null,
   "id": "2d6bfdf3",
   "metadata": {},
   "outputs": [],
   "source": [
    "import copy\n",
    "\n",
    "A = [1, 2, 3, 4]\n",
    "B = copy.deepcopy(A)"
   ]
  },
  {
   "cell_type": "markdown",
   "id": "5183af7a",
   "metadata": {},
   "source": [
    "(Don't confuse NumPy ndarrays and Python lists...)"
   ]
  },
  {
   "cell_type": "markdown",
   "id": "4a816ef0",
   "metadata": {},
   "source": [
    "## Matrix operations\n",
    "\n",
    "NumPy implements all common array operations,\n",
    "\n",
    "* addition, subtraction,\n",
    "* transpose\n",
    "* multiplication,\n",
    "* inverse"
   ]
  },
  {
   "cell_type": "markdown",
   "id": "8e756140",
   "metadata": {},
   "source": [
    "## Array addition and substraction"
   ]
  },
  {
   "cell_type": "code",
   "execution_count": null,
   "id": "17b0408a",
   "metadata": {},
   "outputs": [],
   "source": [
    "X = np.array([[1, 2, 3], [4, 5, 6]])\n",
    "Y = np.ones((2, 3))\n",
    "print(X)\n",
    "print(Y)"
   ]
  },
  {
   "cell_type": "code",
   "execution_count": null,
   "id": "58d982d3",
   "metadata": {},
   "outputs": [],
   "source": [
    "print(X + Y)"
   ]
  },
  {
   "cell_type": "code",
   "execution_count": null,
   "id": "ff5484cf",
   "metadata": {},
   "outputs": [],
   "source": [
    "X - 2 * Y  # note, scalar multiplication"
   ]
  },
  {
   "cell_type": "code",
   "execution_count": null,
   "id": "34cc9b90",
   "metadata": {},
   "outputs": [],
   "source": [
    "# X + np.array([[2, 2], [2, 2]])"
   ]
  },
  {
   "cell_type": "markdown",
   "id": "e13b9483",
   "metadata": {},
   "source": [
    "## Broadcasting\n",
    "\n",
    "During operation NumPy will try to repeat an array to make dimensions fit. This is called 'broadcasting'. It's convenient but it can be confusing."
   ]
  },
  {
   "cell_type": "code",
   "execution_count": null,
   "id": "2e5c878d",
   "metadata": {},
   "outputs": [],
   "source": [
    "X = np.array([[1, 2, 3], [4, 5, 6]])\n",
    "row = np.array([1, 1, 1])\n",
    "print(X)\n",
    "print(row)"
   ]
  },
  {
   "cell_type": "code",
   "execution_count": null,
   "id": "cabcc6f3",
   "metadata": {},
   "outputs": [],
   "source": [
    "print(X + row)"
   ]
  },
  {
   "cell_type": "code",
   "execution_count": null,
   "id": "ad8dc6b1",
   "metadata": {},
   "outputs": [],
   "source": [
    "col = np.array([1, 2])\n",
    "print(col)"
   ]
  },
  {
   "cell_type": "code",
   "execution_count": null,
   "id": "66f183df",
   "metadata": {},
   "outputs": [],
   "source": [
    "print(X + col[:, np.newaxis])"
   ]
  },
  {
   "cell_type": "markdown",
   "id": "0472c933",
   "metadata": {},
   "source": [
    "## Transpose\n",
    "\n",
    "Transposing a matrix swaps the rows and columns."
   ]
  },
  {
   "cell_type": "code",
   "execution_count": null,
   "id": "32c4884c",
   "metadata": {},
   "outputs": [],
   "source": [
    "A = np.array([[1, 2, 3], [4, 5, 6]])\n",
    "print(A)"
   ]
  },
  {
   "cell_type": "code",
   "execution_count": null,
   "id": "20910a07",
   "metadata": {},
   "outputs": [],
   "source": [
    "print(A.T)"
   ]
  },
  {
   "cell_type": "code",
   "execution_count": null,
   "id": "5e08d070",
   "metadata": {},
   "outputs": [],
   "source": [
    "A.shape, A.T.shape"
   ]
  },
  {
   "cell_type": "code",
   "execution_count": null,
   "id": "59c67e03",
   "metadata": {},
   "outputs": [],
   "source": [
    "v = np.array([1, 2, 3, 4, 5])\n",
    "print(v)"
   ]
  },
  {
   "cell_type": "code",
   "execution_count": null,
   "id": "eb101c53",
   "metadata": {},
   "outputs": [],
   "source": [
    "print(v.T)  # Vectors only have one dimension. Transpose does nothing."
   ]
  },
  {
   "cell_type": "code",
   "execution_count": null,
   "id": "5efb4d90",
   "metadata": {},
   "outputs": [],
   "source": [
    "v.shape, v.T.shape"
   ]
  },
  {
   "cell_type": "markdown",
   "id": "e324fae3",
   "metadata": {},
   "source": [
    "## Vectors versus `skinny' matrices\n",
    "\n",
    "When using NumPy, a vector is **not** the same as a matrix with one column."
   ]
  },
  {
   "cell_type": "code",
   "execution_count": null,
   "id": "1fcb6669",
   "metadata": {},
   "outputs": [],
   "source": [
    "v = np.array([1, 2, 3, 4, 5])  # A vector - has 1 dimension\n",
    "print(v)\n",
    "print(v.T)\n",
    "print(v.shape)"
   ]
  },
  {
   "cell_type": "code",
   "execution_count": null,
   "id": "9d21a4d7",
   "metadata": {},
   "outputs": [],
   "source": [
    "M_row = np.array([[1, 2, 3, 4, 5]])  # A matrix - has 2 dimensions\n",
    "print(M_row)\n",
    "print(M_row.shape)"
   ]
  },
  {
   "cell_type": "code",
   "execution_count": null,
   "id": "c7bd165f",
   "metadata": {},
   "outputs": [],
   "source": [
    "M_col = np.array([[1, 2, 3, 4, 5]]).T  # A matrix can be transposed\n",
    "print(M_col)\n",
    "print(M_col.shape)"
   ]
  },
  {
   "cell_type": "markdown",
   "id": "cf9cc829",
   "metadata": {},
   "source": [
    "## Multiplication\n",
    "\n",
    "The '*' operator performs 'elementwise' multiplication"
   ]
  },
  {
   "cell_type": "code",
   "execution_count": null,
   "id": "90bc5403",
   "metadata": {},
   "outputs": [],
   "source": [
    "A = np.array([[1, 2, 3], [4, 5, 6]])\n",
    "A * A"
   ]
  },
  {
   "cell_type": "markdown",
   "id": "36d4eea2",
   "metadata": {},
   "source": [
    "Standard 'matrix multiplication' is performed using the `dot`\n",
    "function"
   ]
  },
  {
   "cell_type": "code",
   "execution_count": null,
   "id": "81b0b238",
   "metadata": {},
   "outputs": [],
   "source": [
    "np.dot(A, A.T)  # Multipy 2x3 matrix A and 3x2 matrix A.T (AA')"
   ]
  },
  {
   "cell_type": "code",
   "execution_count": null,
   "id": "893bdc82",
   "metadata": {},
   "outputs": [],
   "source": [
    "v = np.array([1, 2, 3])\n",
    "np.dot(A, v)  # Multiply 2x3 matrix A and 3-element vector (Av)"
   ]
  },
  {
   "cell_type": "markdown",
   "id": "b91feb3b",
   "metadata": {},
   "source": [
    "## Matrix inverse\n",
    "\n",
    "Matrix determinant and inverse function are provided by the linalg submodule of NumPy."
   ]
  },
  {
   "cell_type": "code",
   "execution_count": null,
   "id": "5c95c423",
   "metadata": {},
   "outputs": [],
   "source": [
    "A = np.array([[2, 1], [3, 2]])\n",
    "print(A)"
   ]
  },
  {
   "cell_type": "code",
   "execution_count": null,
   "id": "7150ba38",
   "metadata": {},
   "outputs": [],
   "source": [
    "np.linalg.det(A)"
   ]
  },
  {
   "cell_type": "code",
   "execution_count": null,
   "id": "0b89af96",
   "metadata": {},
   "outputs": [],
   "source": [
    "np.linalg.inv(A)"
   ]
  },
  {
   "cell_type": "markdown",
   "id": "01f58b6c",
   "metadata": {},
   "source": [
    "## Summary\n",
    "\n",
    "* NumPy provides tools for numeric computing.\n",
    "* With NumPy, Python becomes a usable alternative to MATLAB.\n",
    "* NumPy's basic type is the `ndarray` -- it can represent vectors, matrices, etc.\n",
    "* Lots of tools for vector and matrix manipulation.\n",
    "    - This lecture has only reviewed the most commonly used.\n",
    "* For the full documentation see [http://docs.scipy.org/doc/numpy/](http://docs.scipy.org/doc/numpy/)"
   ]
  }
 ],
 "metadata": {
  "jupytext": {
   "cell_metadata_json": true,
   "formats": "ipynb,py:percent"
  },
  "kernelspec": {
   "display_name": "Python 3.10.7 ('env')",
   "language": "python",
   "name": "python3"
  },
  "language_info": {
   "codemirror_mode": {
    "name": "ipython",
    "version": 3
   },
   "file_extension": ".py",
   "mimetype": "text/x-python",
   "name": "python",
   "nbconvert_exporter": "python",
   "pygments_lexer": "ipython3",
   "version": "3.12.0"
  }
 },
 "nbformat": 4,
 "nbformat_minor": 5
}
